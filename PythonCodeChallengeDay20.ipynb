{
  "nbformat": 4,
  "nbformat_minor": 0,
  "metadata": {
    "colab": {
      "provenance": [],
      "authorship_tag": "ABX9TyNHt9aKjX5sy9a/NwE7VZOr",
      "include_colab_link": true
    },
    "kernelspec": {
      "name": "python3",
      "display_name": "Python 3"
    },
    "language_info": {
      "name": "python"
    }
  },
  "cells": [
    {
      "cell_type": "markdown",
      "metadata": {
        "id": "view-in-github",
        "colab_type": "text"
      },
      "source": [
        "<a href=\"https://colab.research.google.com/github/2023LeslieK/WWC2024-PythonChallenge/blob/main/PythonCodeChallengeDay20.ipynb\" target=\"_parent\"><img src=\"https://colab.research.google.com/assets/colab-badge.svg\" alt=\"Open In Colab\"/></a>"
      ]
    },
    {
      "cell_type": "markdown",
      "source": [
        "Function that takes a list of numbers and returns a new list containing only even numbers."
      ],
      "metadata": {
        "id": "iDIWswQLWDod"
      }
    },
    {
      "cell_type": "code",
      "source": [
        "# Function takes a list of numbers and returns a new list containing only even numbers\n",
        "\n",
        "def main():\n",
        "    # Prompt user to enter a list of numbers.\n",
        "    num_list = get_numbers()\n",
        "\n",
        "    # If list contains invalid entries, print error. Else display list with even numbers only.\n",
        "    if num_list != 0:\n",
        "       print(f\"Amended list with only even_numbers is {even_numbers(num_list)}\")\n",
        "    else:\n",
        "       print(\"Error. This list contains invalid entries.\")\n",
        "\n",
        "# Function to get list of numbers from user\n",
        "def get_numbers():\n",
        "    get_list = input(\"Enter a list of numbers separated by commas: \").strip().split(\",\") # Convert string to list\n",
        "    print(f\"This is the list that was entered - {get_list}\")\n",
        "\n",
        "    # For each entry in the list, check that the entry is valid, ie. that it is a number\n",
        "    # If all entries are numbers, return the list, else return 0\n",
        "    count = 0\n",
        "    for i in range(len(get_list)):\n",
        "      if get_list[i].isdigit() == False:\n",
        "         count = count + 1\n",
        "    if count > 0:\n",
        "       return 0\n",
        "    else:\n",
        "       return get_list\n",
        "\n",
        "# Function to find even numbers in list\n",
        "def even_numbers(num_list):\n",
        "    new_list = []  # Create a new list to hold the even numbers\n",
        "\n",
        "    # For each entry in list, check if it is even (divisible by 2 and no remainder).\n",
        "    # If it is even, add to new list.\n",
        "    for x in range(len(num_list)):\n",
        "       if int(num_list[x]) % 2 == 0:\n",
        "         new_list.append(num_list[x])\n",
        "    return new_list\n",
        "\n",
        "\n",
        "main()"
      ],
      "metadata": {
        "id": "c6kj1owUWPTJ"
      },
      "execution_count": null,
      "outputs": []
    }
  ]
}