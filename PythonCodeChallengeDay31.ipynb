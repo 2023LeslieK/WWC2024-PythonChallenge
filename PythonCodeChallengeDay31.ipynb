{
  "nbformat": 4,
  "nbformat_minor": 0,
  "metadata": {
    "colab": {
      "provenance": [],
      "authorship_tag": "ABX9TyO9AWiGt63IkqbdPUT2vzu2",
      "include_colab_link": true
    },
    "kernelspec": {
      "name": "python3",
      "display_name": "Python 3"
    },
    "language_info": {
      "name": "python"
    }
  },
  "cells": [
    {
      "cell_type": "markdown",
      "metadata": {
        "id": "view-in-github",
        "colab_type": "text"
      },
      "source": [
        "<a href=\"https://colab.research.google.com/github/2023LeslieK/WWC2024-PythonChallenge/blob/main/PythonCodeChallengeDay31.ipynb\" target=\"_parent\"><img src=\"https://colab.research.google.com/assets/colab-badge.svg\" alt=\"Open In Colab\"/></a>"
      ]
    },
    {
      "cell_type": "markdown",
      "source": [
        "Program that checks if a given string is a valid email address"
      ],
      "metadata": {
        "id": "bWCwGBE0uKD9"
      }
    },
    {
      "cell_type": "code",
      "execution_count": null,
      "metadata": {
        "id": "2p179u3DuDMN"
      },
      "outputs": [],
      "source": [
        "# Program prompts the user to enter an email address and checks if it is valid.\n",
        "\n",
        "import re\n",
        "\n",
        "\n",
        "def main():\n",
        " check_email(get_email())\n",
        "\n",
        "def get_email():\n",
        "  return input(\"Enter email address: \")\n",
        "\n",
        "def check_email(email_addr):\n",
        "\n",
        "  # The below determines if email address is valid.\n",
        "  #1. @\n",
        "  #2. One or more characters before @ excluding @\n",
        "  #3. One or more characters after @ excluding @\n",
        "  #4. Characters after @ should include .\n",
        "\n",
        "\n",
        "  if re.search(\"\\w+\\^@\\@\\^@\\w+[.]\\w+\", email_addr):\n",
        "    print(\"This is a valid email address.\")\n",
        "  else:\n",
        "    print(\"The email address entered is invalid.\")\n",
        "\n",
        "main()"
      ]
    },
    {
      "cell_type": "code",
      "source": [
        "#Simple Pattern: ^[a-zA-Z0-9_.+-]+@[a-zA-Z0-9-]+\\.[a-zA-Z0-9-.]+$\n",
        "\n",
        "\n",
        "import re\n",
        "\n",
        "\n",
        "def main():\n",
        " check_email(get_email())\n",
        "\n",
        "def get_email():\n",
        "  return input(\"Enter email address: \")\n",
        "\n",
        "def check_email(email_addr):\n",
        "\n",
        "  # The below determines if email address is valid.\n",
        "  #1. @\n",
        "  #2. One or more characters before @ excluding @\n",
        "  #3. One or more characters after @ excluding @\n",
        "  #4. Characters after @ should include .\n",
        "\n",
        " # ^ - starts with; $ - ends with\n",
        "\n",
        "  if re.search(\"^[a-zA-Z0-9_.+-]+@[a-zA-Z0-9-]+\\.[a-zA-Z0-9-.]+$\", email_addr):\n",
        "    print(\"This is a valid email address.\")\n",
        "  else:\n",
        "    print(\"The email address entered is invalid.\")\n",
        "\n",
        "main()\n",
        "\n",
        "\n"
      ],
      "metadata": {
        "id": "ruYUFHdJRSAS"
      },
      "execution_count": null,
      "outputs": []
    },
    {
      "cell_type": "code",
      "source": [
        "#Strict Pattern: ^[a-zA-Z0-9_.+-]+@[a-zA-Z0-9-]+\\.[a-zA-Z0-9-.]+$"
      ],
      "metadata": {
        "id": "W0LSQlJZRY3i"
      },
      "execution_count": null,
      "outputs": []
    },
    {
      "cell_type": "code",
      "source": [
        "#Pattern with Top-Level Domains (TLDs): ^[a-zA-Z0-9_.+-]+@[a-zA-Z0-9-]+\\.[a-zA-Z0-9-.]+\\.[a-zA-Z]{2,}$"
      ],
      "metadata": {
        "id": "_NFgZ67vRZIE"
      },
      "execution_count": null,
      "outputs": []
    }
  ]
}