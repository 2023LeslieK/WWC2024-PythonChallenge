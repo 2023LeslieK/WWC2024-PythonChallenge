{
  "nbformat": 4,
  "nbformat_minor": 0,
  "metadata": {
    "colab": {
      "provenance": [],
      "authorship_tag": "ABX9TyOPoMBzWetBAaxXlNxjy9+e",
      "include_colab_link": true
    },
    "kernelspec": {
      "name": "python3",
      "display_name": "Python 3"
    },
    "language_info": {
      "name": "python"
    }
  },
  "cells": [
    {
      "cell_type": "markdown",
      "metadata": {
        "id": "view-in-github",
        "colab_type": "text"
      },
      "source": [
        "<a href=\"https://colab.research.google.com/github/2023LeslieK/WWC2024-PythonChallenge/blob/main/PythonCodeChallengeDay11.ipynb\" target=\"_parent\"><img src=\"https://colab.research.google.com/assets/colab-badge.svg\" alt=\"Open In Colab\"/></a>"
      ]
    },
    {
      "cell_type": "markdown",
      "source": [
        "Print the multiplication table of a given number."
      ],
      "metadata": {
        "id": "7Eh9yoE_038M"
      }
    },
    {
      "cell_type": "code",
      "source": [
        "# Function to get number from user and then print the multiplication table (1 -12) for the number\n",
        "def main():\n",
        "  number = get_num()\n",
        "  print_table(number)\n",
        "\n",
        "\n",
        "# Function to get number from user\n",
        "def get_num():\n",
        "  while True:\n",
        "    try:\n",
        "      return int(input(\"Enter a number then press Enter: \"))\n",
        "    except ValueError:\n",
        "      print(\"Oops!  That was not a valid number.  Try again...\")\n",
        "\n",
        "\n",
        "# Function to print multiplication table\n",
        "def print_table(num):\n",
        "  for i in range(1, 13):\n",
        "    print (f\"{num} times {i} = {num * i}\")\n",
        "\n",
        "\n",
        "main()\n"
      ],
      "metadata": {
        "id": "pcCykSRl09Ji"
      },
      "execution_count": null,
      "outputs": []
    },
    {
      "cell_type": "code",
      "source": [
        "# Function to generate random number (from 1 to 50) and then print the multiplication table (1 -12) for the number\n",
        "import random\n",
        "\n",
        "def main():\n",
        "  number = random.randint(1, 51) # generate random number (from 1 to 50)\n",
        "  print_table(number) # print multiplication table for this number\n",
        "\n",
        "\n",
        "# Function to print multiplication table\n",
        "def print_table(num):\n",
        "  for i in range(1, 13):\n",
        "    print (f\"{num} * {i} = {num * i}\")\n",
        "\n",
        "\n",
        "main()"
      ],
      "metadata": {
        "id": "X5NNoyOf5rbL"
      },
      "execution_count": null,
      "outputs": []
    }
  ]
}