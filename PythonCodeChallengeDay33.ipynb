{
  "nbformat": 4,
  "nbformat_minor": 0,
  "metadata": {
    "colab": {
      "provenance": [],
      "authorship_tag": "ABX9TyPKm9hzhx9foZSxPM8kr0fQ",
      "include_colab_link": true
    },
    "kernelspec": {
      "name": "python3",
      "display_name": "Python 3"
    },
    "language_info": {
      "name": "python"
    }
  },
  "cells": [
    {
      "cell_type": "markdown",
      "metadata": {
        "id": "view-in-github",
        "colab_type": "text"
      },
      "source": [
        "<a href=\"https://colab.research.google.com/github/2023LeslieK/WWC2024-PythonChallenge/blob/main/PythonCodeChallengeDay33.ipynb\" target=\"_parent\"><img src=\"https://colab.research.google.com/assets/colab-badge.svg\" alt=\"Open In Colab\"/></a>"
      ]
    },
    {
      "cell_type": "markdown",
      "source": [
        "Test case for a function that checks if a number is prime"
      ],
      "metadata": {
        "id": "xUVcVjBoNRAq"
      }
    },
    {
      "cell_type": "code",
      "execution_count": null,
      "metadata": {
        "id": "Q8JTyXQxNNXs"
      },
      "outputs": [],
      "source": [
        "# Test case for a function that checks if a number is prime\n",
        "\n",
        "import math\n",
        "\n",
        "def isPrime(num):\n",
        "    if num <= 1:\n",
        "      return False\n",
        "    else:\n",
        "       for i in range(2, int(math.sqrt(num))+1):\n",
        "         if num % i == 0:\n",
        "            return False\n",
        "       return True\n",
        "\n",
        "\n",
        "\n",
        "import unittest\n",
        "\n",
        "class Test_isPrime(unittest.TestCase):\n",
        "  def test_prime_not_prime(self):\n",
        "     self.assertTrue(isPrime(2))\n",
        "     self.assertTrue(isPrime(5))\n",
        "     self.assertFalse(isPrime(9))\n",
        "     self.assertTrue(isPrime(11))\n",
        "\n",
        "\n",
        "if __name__=='__main__'\n",
        "     unittest.main()\n",
        "\n",
        "#unittest.main(argv=[''], verbosity=2, exit=False)"
      ]
    }
  ]
}