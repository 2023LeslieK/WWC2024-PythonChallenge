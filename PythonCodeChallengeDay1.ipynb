{
  "nbformat": 4,
  "nbformat_minor": 0,
  "metadata": {
    "colab": {
      "provenance": [],
      "authorship_tag": "ABX9TyMZD9LHniBaMYiWO9X/8R1V",
      "include_colab_link": true
    },
    "kernelspec": {
      "name": "python3",
      "display_name": "Python 3"
    },
    "language_info": {
      "name": "python"
    }
  },
  "cells": [
    {
      "cell_type": "markdown",
      "metadata": {
        "id": "view-in-github",
        "colab_type": "text"
      },
      "source": [
        "<a href=\"https://colab.research.google.com/github/2023LeslieK/WWC2024-PythonChallenge/blob/main/PythonCodeChallengeDay1.ipynb\" target=\"_parent\"><img src=\"https://colab.research.google.com/assets/colab-badge.svg\" alt=\"Open In Colab\"/></a>"
      ]
    },
    {
      "cell_type": "markdown",
      "source": [
        "Day 1 Challenge: Create a program that swaps the values of two variables."
      ],
      "metadata": {
        "id": "ZFlHP_m52DMz"
      }
    },
    {
      "cell_type": "code",
      "source": [
        "# Program swaps the values of two variables\n",
        "\n",
        "# Prompt user to enter values for two variables - var1 and var2\n",
        "var1 = input(\"Enter a value for variable 1: \")\n",
        "var2 = input(\"Enter a value for variable 2: \")\n",
        "\n",
        "print(\"\\nBefore swap\")\n",
        "print(\"Variable 1 is\", var1)\n",
        "print(\"Variable 2 is\", var2)\n",
        "\n",
        "# Swap variables\n",
        "var1, var2 = var2, var1\n",
        "\n",
        "print(\"\\nAfter swap\")\n",
        "print(\"Variable 1 is\", var1)\n",
        "print(\"Variable 2 is\", var2)\n"
      ],
      "metadata": {
        "id": "2qzcYqHx6jKo"
      },
      "execution_count": null,
      "outputs": []
    }
  ]
}