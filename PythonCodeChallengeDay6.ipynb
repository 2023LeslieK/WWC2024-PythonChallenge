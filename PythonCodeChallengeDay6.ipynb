{
  "nbformat": 4,
  "nbformat_minor": 0,
  "metadata": {
    "colab": {
      "provenance": [],
      "authorship_tag": "ABX9TyOebpuw4Hur4t4TFBHSoMfN",
      "include_colab_link": true
    },
    "kernelspec": {
      "name": "python3",
      "display_name": "Python 3"
    },
    "language_info": {
      "name": "python"
    }
  },
  "cells": [
    {
      "cell_type": "markdown",
      "metadata": {
        "id": "view-in-github",
        "colab_type": "text"
      },
      "source": [
        "<a href=\"https://colab.research.google.com/github/2023LeslieK/WWC2024-PythonChallenge/blob/main/PythonCodeChallengeDay6.ipynb\" target=\"_parent\"><img src=\"https://colab.research.google.com/assets/colab-badge.svg\" alt=\"Open In Colab\"/></a>"
      ]
    },
    {
      "cell_type": "markdown",
      "source": [
        "Write a program to count the occurences of a specific character in a string."
      ],
      "metadata": {
        "id": "terxxmtqe0FN"
      }
    },
    {
      "cell_type": "code",
      "source": [
        "# User is prompted to enter a list of items. Numbers only.\n",
        "\n",
        "userinput = list(input(\"Enter a string. Press enter when done: \"))\n",
        "\n",
        "char = input(\"Enter the character to count: \")\n",
        "\n",
        "i = 0\n",
        "count = 0\n",
        "\n",
        "while i < len(userinput):\n",
        "    if userinput[i] == char:\n",
        "      count = count + 1\n",
        "    i = i + 1\n",
        "\n",
        "print (f\"The character {char} occurs {count} time(s).\")\n",
        "\n",
        "\n",
        "\n",
        "\n"
      ],
      "metadata": {
        "id": "BDjIXVT1e7ok",
        "colab": {
          "base_uri": "https://localhost:8080/"
        },
        "outputId": "1b0279e6-0e84-482a-ac5b-a3f61414093c"
      },
      "execution_count": 1,
      "outputs": [
        {
          "output_type": "stream",
          "name": "stdout",
          "text": [
            "Enter a string. Press enter when done: Do a dear a female dear\n",
            "You entered: ['D', 'o', ' ', 'a', ' ', 'd', 'e', 'a', 'r', ' ', 'a', ' ', 'f', 'e', 'm', 'a', 'l', 'e', ' ', 'd', 'e', 'a', 'r']\n",
            "Enter the character to count: a\n",
            "You entered: a\n",
            "The character a occurs 5 time(s).\n"
          ]
        }
      ]
    }
  ]
}