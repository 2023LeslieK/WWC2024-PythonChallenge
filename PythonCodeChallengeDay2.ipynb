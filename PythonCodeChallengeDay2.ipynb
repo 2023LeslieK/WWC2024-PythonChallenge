{
  "nbformat": 4,
  "nbformat_minor": 0,
  "metadata": {
    "colab": {
      "provenance": [],
      "authorship_tag": "ABX9TyMxhOQX6JBeA7IjBucXZ+i8",
      "include_colab_link": true
    },
    "kernelspec": {
      "name": "python3",
      "display_name": "Python 3"
    },
    "language_info": {
      "name": "python"
    }
  },
  "cells": [
    {
      "cell_type": "markdown",
      "metadata": {
        "id": "view-in-github",
        "colab_type": "text"
      },
      "source": [
        "<a href=\"https://colab.research.google.com/github/2023LeslieK/WWC2024-PythonChallenge/blob/main/PythonCodeChallengeDay2.ipynb\" target=\"_parent\"><img src=\"https://colab.research.google.com/assets/colab-badge.svg\" alt=\"Open In Colab\"/></a>"
      ]
    },
    {
      "cell_type": "markdown",
      "source": [
        "Calculate the area of a circle given its radius."
      ],
      "metadata": {
        "id": "ewnA1bbvw2ua"
      }
    },
    {
      "cell_type": "code",
      "source": [
        "# This program calculates the area of a circle given its radius.\n",
        "# The user will be prompted to provide this value.\n",
        "\n",
        "radius = int (input (\"Enter the radius of the circle: \"))\n",
        "area = (3.14 * (radius**2))\n",
        "print (area)\n",
        "print (f\"Area of a circle with radius, {radius}, is {area}\")\n"
      ],
      "metadata": {
        "id": "TeTbc2ClxRPK"
      },
      "execution_count": null,
      "outputs": []
    },
    {
      "cell_type": "code",
      "source": [
        "# This program calculates the area of a circle given its radius using functions and the math library\n",
        "# The user will be prompted to provide this value.\n",
        "\n",
        "import math\n",
        "def main():\n",
        "  getradius = float(input (\"Enter the radius of the circle: \"))\n",
        "  calculate_area(getradius)\n",
        "\n",
        "# function to calculate area given radius using pi\n",
        "def calculate_area(radius):\n",
        "    area = round((math.pi * (radius**2)), 2)\n",
        "    print(f\"Area of a circle with radius, {radius}, is {area}\")\n",
        "\n",
        "main()\n"
      ],
      "metadata": {
        "id": "jl4OnsKS64ke"
      },
      "execution_count": null,
      "outputs": []
    },
    {
      "cell_type": "code",
      "source": [
        "# This program calculates the area of a circle given its radius using functions, the math library and the pow operator.\n",
        "# The user will be prompted to provide this value.\n",
        "import math\n",
        "def main():\n",
        "   getradius = float (input (\"Enter the radius of the circle: \")) #prompt user to enter radius\n",
        "   calculate_area(getradius) #calculate the area\n",
        "\n",
        "# function to calculate area given radius using the pow operator\n",
        "def calculate_area(radius):\n",
        "    area = round((math.pi * pow(radius, 2)), 2) # pow(radius, 2) - radius squared\n",
        "    print(f\"Area of a circle with radius, {radius}, is {area}\")\n",
        "\n",
        "main()"
      ],
      "metadata": {
        "id": "ZJoHro1NI_ZJ"
      },
      "execution_count": null,
      "outputs": []
    },
    {
      "cell_type": "code",
      "source": [
        "# This program calculates the area of a circle given its radius using functions, the math library and the pow operator.\n",
        "# The user will be prompted to provide this value.\n",
        "# With error handling\n",
        "\n",
        "import math\n",
        "def main():\n",
        "  get_user_input()\n",
        "\n",
        "# function to calculate area given radius using the pow operator\n",
        "def calculate_area(radius):\n",
        "    area = round((math.pi * pow(radius, 2)), 4) # pow(radius, 2) - radius squared\n",
        "    print(f\"Area of a circle with radius, {radius}, is {area}\")\n",
        "\n",
        "#function to prompt the user for the radius\n",
        "def get_user_input():\n",
        "    getradius = (input (\"Enter the radius of the circle: \"))\n",
        "    #if (type(getradius) == 'str'):\n",
        "    #print(\"Invalid entry. Please enter numbers only.\")\n",
        "    #else:\n",
        "    convradius = float(getradius)\n",
        "    calculate_area(convradius)\n",
        "\n",
        "main()\n",
        "\n"
      ],
      "metadata": {
        "id": "_TrsvnaEVsat"
      },
      "execution_count": null,
      "outputs": []
    }
  ]
}