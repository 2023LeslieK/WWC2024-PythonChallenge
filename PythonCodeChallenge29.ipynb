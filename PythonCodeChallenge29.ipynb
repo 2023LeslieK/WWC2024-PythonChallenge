{
  "nbformat": 4,
  "nbformat_minor": 0,
  "metadata": {
    "colab": {
      "provenance": [],
      "authorship_tag": "ABX9TyMMNrw/cmQslKtK0EXyUf1J",
      "include_colab_link": true
    },
    "kernelspec": {
      "name": "python3",
      "display_name": "Python 3"
    },
    "language_info": {
      "name": "python"
    }
  },
  "cells": [
    {
      "cell_type": "markdown",
      "metadata": {
        "id": "view-in-github",
        "colab_type": "text"
      },
      "source": [
        "<a href=\"https://colab.research.google.com/github/2023LeslieK/WWC2024-PythonChallenge/blob/main/PythonCodeChallenge29.ipynb\" target=\"_parent\"><img src=\"https://colab.research.google.com/assets/colab-badge.svg\" alt=\"Open In Colab\"/></a>"
      ]
    },
    {
      "cell_type": "markdown",
      "source": [
        "Function that generates a random number between a given range."
      ],
      "metadata": {
        "id": "AHdrg3U5ZtrS"
      }
    },
    {
      "cell_type": "code",
      "execution_count": null,
      "metadata": {
        "id": "Qp2GukFAZnVX"
      },
      "outputs": [],
      "source": [
        "# Function that generates a random number between a given range\n",
        "# Using random.randint() function for integer values\n",
        "\n",
        "import random\n",
        "\n",
        "def main():\n",
        "  while True:\n",
        "    try:\n",
        "      lrange = int(input(\"Enter the lowest number of the range: \"))\n",
        "      hrange = int(input(\"Enter the highest number of the range: \"))\n",
        "      generate_random(lrange, hrange)\n",
        "      break\n",
        "    except ValueError:\n",
        "      print(\"Enter numeric values only\")\n",
        "      continue\n",
        "\n",
        "def generate_random(low_range, high_range):\n",
        "  if low_range < high_range:\n",
        "    print(f\"Random number generated is {random.randint(low_range, high_range)}\")\n",
        "  else:\n",
        "   print(\"Error. Start of range cannot be larger than the end of the range.\")\n",
        "\n",
        "\n",
        "main()"
      ]
    },
    {
      "cell_type": "code",
      "source": [
        "# Function that generates a random number between a given range\n",
        "# Using random.uniform() method to handle float values\n",
        "\n",
        "import random\n",
        "\n",
        "def main():\n",
        "  while True:\n",
        "    try:\n",
        "     lrange = float(input(\"Enter the lowest number of the range: \"))\n",
        "     hrange = float(input(\"Enter the highest number of the range: \"))\n",
        "     generate_random(lrange, hrange)\n",
        "     break\n",
        "    except ValueError:\n",
        "      print(\"Enter numeric values only\")\n",
        "      continue\n",
        "\n",
        "\n",
        "def generate_random(low_range, high_range):\n",
        "  if low_range < high_range:\n",
        "    print(f\"Random number generated is {round(random.uniform(low_range, high_range),2)}\")\n",
        "  else:\n",
        "   print(\"Error. Start of range cannot be larger than the end of the range.\")\n",
        "\n",
        "\n",
        "main()"
      ],
      "metadata": {
        "id": "LEfQrC4ybpcK"
      },
      "execution_count": null,
      "outputs": []
    }
  ]
}