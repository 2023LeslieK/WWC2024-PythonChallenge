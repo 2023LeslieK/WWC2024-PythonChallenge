{
  "nbformat": 4,
  "nbformat_minor": 0,
  "metadata": {
    "colab": {
      "provenance": [],
      "authorship_tag": "ABX9TyPUvPJ26xM0LRfArRDsv3K1",
      "include_colab_link": true
    },
    "kernelspec": {
      "name": "python3",
      "display_name": "Python 3"
    },
    "language_info": {
      "name": "python"
    }
  },
  "cells": [
    {
      "cell_type": "markdown",
      "metadata": {
        "id": "view-in-github",
        "colab_type": "text"
      },
      "source": [
        "<a href=\"https://colab.research.google.com/github/2023LeslieK/WWC2024-PythonChallenge/blob/main/PythonCodeChallengeDay16.ipynb\" target=\"_parent\"><img src=\"https://colab.research.google.com/assets/colab-badge.svg\" alt=\"Open In Colab\"/></a>"
      ]
    },
    {
      "cell_type": "markdown",
      "source": [
        "Function that counts the frequency of each word in a sentence"
      ],
      "metadata": {
        "id": "3ojfXAgO0G62"
      }
    },
    {
      "cell_type": "code",
      "source": [
        "#Count the frequency of each word in a given sentence\n",
        "\n",
        "def main():\n",
        "    input_sentence = get_sentence().lower().split()\n",
        "    count_words(input_sentence)\n",
        "    #print(input_sentence)\n",
        "    #print(f\"\")\n",
        "\n",
        "# Prompt user for sentence\n",
        "def get_sentence():\n",
        "  return input(\"Enter a sentence and press Enter: \")\n",
        "\n",
        "# Function to count the number of words\n",
        "def count_words(sentence):\n",
        "  word_set = set(sentence)  # create a new list with duplicates removed.\n",
        "  print(word_set)\n",
        "  for word in word_set: # for each unique word, get count\n",
        "    word_count = sentence.count(word)\n",
        "    print(f\"{word} appears {word_count} times\")\n",
        "\n",
        "\n",
        "main()"
      ],
      "metadata": {
        "id": "UEjAS6Oh0N8u"
      },
      "execution_count": null,
      "outputs": []
    },
    {
      "cell_type": "code",
      "source": [
        "#Count the frequency of each word in a given sentence\n",
        "\n",
        "def main():\n",
        "    input_sentence = get_sentence().lower().split()\n",
        "    print(count_words(input_sentence))\n",
        "\n",
        "\n",
        "# Prompt user for sentence\n",
        "def get_sentence():\n",
        "  return input(\"Enter a sentence and press Enter: \")\n",
        "\n",
        "# Function to count the number of words\n",
        "def count_words(sentence):\n",
        "  word_list = {}  # Create dictionary to store word counts\n",
        "  word_set = set(sentence)  # create a new list with duplicates removed.\n",
        "\n",
        "  for word in word_set: # for each unique word, get count\n",
        "    word_list[word] = sentence.count(word)\n",
        "\n",
        "  return word_list\n",
        "\n",
        "\n",
        "main()"
      ],
      "metadata": {
        "id": "Ztw2YEI3yfV2"
      },
      "execution_count": null,
      "outputs": []
    }
  ]
}