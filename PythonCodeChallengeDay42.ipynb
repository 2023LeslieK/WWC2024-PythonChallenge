{
  "nbformat": 4,
  "nbformat_minor": 0,
  "metadata": {
    "colab": {
      "provenance": [],
      "authorship_tag": "ABX9TyOyC5mhxjNZ0tBGguECqKBZ",
      "include_colab_link": true
    },
    "kernelspec": {
      "name": "python3",
      "display_name": "Python 3"
    },
    "language_info": {
      "name": "python"
    }
  },
  "cells": [
    {
      "cell_type": "markdown",
      "metadata": {
        "id": "view-in-github",
        "colab_type": "text"
      },
      "source": [
        "<a href=\"https://colab.research.google.com/github/2023LeslieK/WWC2024-PythonChallenge/blob/main/PythonCodeChallengeDay42.ipynb\" target=\"_parent\"><img src=\"https://colab.research.google.com/assets/colab-badge.svg\" alt=\"Open In Colab\"/></a>"
      ]
    },
    {
      "cell_type": "markdown",
      "source": [
        "Program that uses a try-except block to handle division by zero"
      ],
      "metadata": {
        "id": "fkcEkmH8-6te"
      }
    },
    {
      "cell_type": "code",
      "execution_count": null,
      "metadata": {
        "id": "Fi25AX61-1ne"
      },
      "outputs": [],
      "source": [
        "# Program uses a try-except block to handle division by zero\n",
        "\n",
        "def main():\n",
        "    num1 = int(input(\"Enter dividend or top number: \"))\n",
        "    num2 = int(input(\"Enter divisor or bottom number: \"))\n",
        "\n",
        "    try:\n",
        "      print (f\"Answer or quotient is {num1/num2}\")\n",
        "    except ZeroDivisionError:\n",
        "      print(\"Cannot divide by 0. For the divisor (or bottom number), enter a number that's not 0.\")\n",
        "\n",
        "\n",
        "main()"
      ]
    }
  ]
}