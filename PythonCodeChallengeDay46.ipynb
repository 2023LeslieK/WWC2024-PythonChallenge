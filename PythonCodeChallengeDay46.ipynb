{
  "nbformat": 4,
  "nbformat_minor": 0,
  "metadata": {
    "colab": {
      "provenance": [],
      "authorship_tag": "ABX9TyOeFG0ZTDht/vDngLGAL1Wf",
      "include_colab_link": true
    },
    "kernelspec": {
      "name": "python3",
      "display_name": "Python 3"
    },
    "language_info": {
      "name": "python"
    }
  },
  "cells": [
    {
      "cell_type": "markdown",
      "metadata": {
        "id": "view-in-github",
        "colab_type": "text"
      },
      "source": [
        "<a href=\"https://colab.research.google.com/github/2023LeslieK/WWC2024-PythonChallenge/blob/main/PythonCodeChallengeDay46.ipynb\" target=\"_parent\"><img src=\"https://colab.research.google.com/assets/colab-badge.svg\" alt=\"Open In Colab\"/></a>"
      ]
    },
    {
      "cell_type": "markdown",
      "source": [
        "Function to check if a given list is sorted."
      ],
      "metadata": {
        "id": "77nwuGVDoCrg"
      }
    },
    {
      "cell_type": "code",
      "execution_count": null,
      "metadata": {
        "id": "6_Vpvlg9n_vt"
      },
      "outputs": [],
      "source": [
        "# Function checks if a given list is sorted.\n",
        "\n",
        "def main():\n",
        "    orig_list = input(\"Enter a list of elements separated by commas: \").replace(\" \", \"\").split(\",\")\n",
        "    isListSorted(orig_list)\n",
        "\n",
        "def isListSorted(orig_list):\n",
        "    # If list is sorted in either ascending or descending order, then print the list is sorted.\n",
        "    if (sorted(orig_list) == orig_list) | (sorted(orig_list, reverse=True) == orig_list):\n",
        "      print(\"Given list is sorted\")\n",
        "    else:\n",
        "      print(\"Given list is not sorted\")\n",
        "\n",
        "main()"
      ]
    }
  ]
}