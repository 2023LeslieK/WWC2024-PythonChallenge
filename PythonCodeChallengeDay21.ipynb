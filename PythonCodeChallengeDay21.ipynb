{
  "nbformat": 4,
  "nbformat_minor": 0,
  "metadata": {
    "colab": {
      "provenance": [],
      "authorship_tag": "ABX9TyPT0ir9hgbMGHdcq+p/87e3",
      "include_colab_link": true
    },
    "kernelspec": {
      "name": "python3",
      "display_name": "Python 3"
    },
    "language_info": {
      "name": "python"
    }
  },
  "cells": [
    {
      "cell_type": "markdown",
      "metadata": {
        "id": "view-in-github",
        "colab_type": "text"
      },
      "source": [
        "<a href=\"https://colab.research.google.com/github/2023LeslieK/WWC2024-PythonChallenge/blob/main/PythonCodeChallengeDay21.ipynb\" target=\"_parent\"><img src=\"https://colab.research.google.com/assets/colab-badge.svg\" alt=\"Open In Colab\"/></a>"
      ]
    },
    {
      "cell_type": "markdown",
      "source": [
        "Program to remove a specific element from a set."
      ],
      "metadata": {
        "id": "jUgxsM8Bic9n"
      }
    },
    {
      "cell_type": "code",
      "execution_count": null,
      "metadata": {
        "id": "2MpEpZykiV-i"
      },
      "outputs": [],
      "source": [
        "# Program to remove a specific element from a set. First prompt user to enter the list of elements.\n",
        "# Then prompt user to enter the item to be removed from the list.\n",
        "# If list is empty, display error, cannot remove items from an empty list\n",
        "\n",
        "def main():\n",
        "  # Get list and item from user and print updated list\n",
        "  user_list, remove_item = get_user_input()\n",
        "  # Check if item is valid. Only accept one item at a time\n",
        "  if(len(remove_item) != 1):\n",
        "    print(\"Invalid number of items, enter exactly one.\")\n",
        "  else:\n",
        "    print(f\"New list is: {remove_element(user_list, remove_item)}\")\n",
        "\n",
        "def get_user_input():\n",
        "  input_list = input(\"Enter a list of items separated by commas: \").replace(\" \", \"\").strip(\" \").split(\",\")\n",
        "  # Check for empty list\n",
        "  input_item = input(\"Which item do you want to remove from the list: \").strip()\n",
        "  return input_list, input_item\n",
        "\n",
        "def remove_element(u_list, u_item):\n",
        "  print(u_item)\n",
        "  print(u_list)\n",
        "  # Remove all occurences of the item by using list comprehension to create a new list from the existing list\n",
        "  new_list = [new_item for new_item in u_list if (new_item != u_item)]\n",
        "\n",
        "  # If item is not in list\n",
        "\n",
        "  return new_list\n",
        "\n",
        "main()"
      ]
    },
    {
      "cell_type": "code",
      "source": [
        "# Program to remove a specific element from a set. First prompt user to enter the list of elements.\n",
        "# Then prompt user to enter the item to be removed from the list.\n",
        "# After element is removed, prompt user to enter another item to be removed if they wish.\n",
        "# If list is empty, display error, cannot remove items from an empty list\n",
        "\n",
        "\n",
        "def main():\n",
        "  user_list, remove_item = get_user_input()\n",
        "  print(f\"New list is: {remove_element(user_list, remove_item)}\")\n",
        "\n",
        "def get_user_input():\n",
        "  input_list = input(\"Enter a list of items separated by commas: \").strip().split(\",\")\n",
        "  input_item = input(\"Which item do you want to remove from the list: \").strip()\n",
        "  return input_list, input_item\n",
        "\n",
        "def remove_element(u_list, u_item):\n",
        "  print(u_item)\n",
        "  print(u_list)\n",
        "  # Modify the current list in-place, using the slice assignment combined with list comprehension\n",
        "  u_list[:] = [new_item for new_item in u_list if new_item != u_item]\n",
        "  return u_list\n",
        "\n",
        "main()"
      ],
      "metadata": {
        "id": "7ZXUxY9UPQFr"
      },
      "execution_count": null,
      "outputs": []
    }
  ]
}