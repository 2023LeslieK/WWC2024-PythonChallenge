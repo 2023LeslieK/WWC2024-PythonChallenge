{
  "nbformat": 4,
  "nbformat_minor": 0,
  "metadata": {
    "colab": {
      "provenance": [],
      "authorship_tag": "ABX9TyN5zboSU+J4pIRbDZrHXMPB",
      "include_colab_link": true
    },
    "kernelspec": {
      "name": "python3",
      "display_name": "Python 3"
    },
    "language_info": {
      "name": "python"
    }
  },
  "cells": [
    {
      "cell_type": "markdown",
      "metadata": {
        "id": "view-in-github",
        "colab_type": "text"
      },
      "source": [
        "<a href=\"https://colab.research.google.com/github/2023LeslieK/WWC2024-PythonChallenge/blob/main/PythonCodeChallengeDay28.ipynb\" target=\"_parent\"><img src=\"https://colab.research.google.com/assets/colab-badge.svg\" alt=\"Open In Colab\"/></a>"
      ]
    },
    {
      "cell_type": "markdown",
      "source": [
        "Program to remove the nth element in a list"
      ],
      "metadata": {
        "id": "8VwpZQAAl4fX"
      }
    },
    {
      "cell_type": "code",
      "execution_count": null,
      "metadata": {
        "id": "CxpQHQ6po6nm"
      },
      "outputs": [],
      "source": [
        "\n",
        "# Program to remove the nth element in a list\n",
        "\n",
        "# Main function\n",
        "def main():\n",
        "  get_list()\n",
        "\n",
        "\n",
        "# Function to prompt user for input\n",
        "def get_list():\n",
        "    user_list = input(\"Enter a list of numbers separated by commas: \").split(\",\") # Convert string to list\n",
        "    user_list = list(filter(None,user_list)) #remove empty strings from list\n",
        "\n",
        "    if len(user_list) > 0:\n",
        "      element = int(input(\"Enter number of element to be removed: \"))\n",
        "      remove_element(user_list, element)\n",
        "\n",
        "    # If list is empty\n",
        "    else:\n",
        "      print(\"Error. The list is empty.\")\n",
        "\n",
        "\n",
        "# Function to remove nth element from the list\n",
        "def remove_element(user_list, element):\n",
        "   print(f\"{user_list[element-1]} will be removed from the list.\")\n",
        "   del user_list[element-1]\n",
        "   print(f\"The new list is: {user_list}\")\n",
        "\n",
        "main()"
      ]
    }
  ]
}