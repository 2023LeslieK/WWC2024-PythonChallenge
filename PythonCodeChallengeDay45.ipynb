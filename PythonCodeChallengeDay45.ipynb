{
  "nbformat": 4,
  "nbformat_minor": 0,
  "metadata": {
    "colab": {
      "provenance": [],
      "authorship_tag": "ABX9TyMKJq3Ik48zXTaExd3KTgq8",
      "include_colab_link": true
    },
    "kernelspec": {
      "name": "python3",
      "display_name": "Python 3"
    },
    "language_info": {
      "name": "python"
    }
  },
  "cells": [
    {
      "cell_type": "markdown",
      "metadata": {
        "id": "view-in-github",
        "colab_type": "text"
      },
      "source": [
        "<a href=\"https://colab.research.google.com/github/2023LeslieK/WWC2024-PythonChallenge/blob/main/PythonCodeChallengeDay45.ipynb\" target=\"_parent\"><img src=\"https://colab.research.google.com/assets/colab-badge.svg\" alt=\"Open In Colab\"/></a>"
      ]
    },
    {
      "cell_type": "markdown",
      "source": [
        "Function checks if a number is prime."
      ],
      "metadata": {
        "id": "aRJaHWWEnm1m"
      }
    },
    {
      "cell_type": "code",
      "execution_count": null,
      "metadata": {
        "id": "xacGOscRnj9a"
      },
      "outputs": [],
      "source": [
        "#Function checks if a number is prime.\n",
        "\n",
        "# Main function\n",
        "def main():\n",
        "  getInteger()\n",
        "\n",
        "\n",
        "# Function to prompt user for number\n",
        "def getInteger():\n",
        "    num = int(input(\"Enter a number greater than 0: \"))\n",
        "    if num > 0:\n",
        "      isPrime(num)\n",
        "    else:\n",
        "     print(\"Valid entries are numbers greater than zero.\")\n",
        "\n",
        "def isPrime(num):\n",
        "  if (num % 2 != 0) | (num == 2):\n",
        "    print(f\"{num} is a prime number.\")\n",
        "  else:\n",
        "    print(f\"{num} is not a prime number.\")\n",
        "\n",
        "\n",
        "main()"
      ]
    }
  ]
}