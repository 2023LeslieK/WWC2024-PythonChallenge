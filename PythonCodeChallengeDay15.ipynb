{
  "nbformat": 4,
  "nbformat_minor": 0,
  "metadata": {
    "colab": {
      "provenance": [],
      "authorship_tag": "ABX9TyNLIGVIhSmV/oI3pLnmv6jy",
      "include_colab_link": true
    },
    "kernelspec": {
      "name": "python3",
      "display_name": "Python 3"
    },
    "language_info": {
      "name": "python"
    }
  },
  "cells": [
    {
      "cell_type": "markdown",
      "metadata": {
        "id": "view-in-github",
        "colab_type": "text"
      },
      "source": [
        "<a href=\"https://colab.research.google.com/github/2023LeslieK/WWC2024-PythonChallenge/blob/main/PythonCodeChallengeDay15.ipynb\" target=\"_parent\"><img src=\"https://colab.research.google.com/assets/colab-badge.svg\" alt=\"Open In Colab\"/></a>"
      ]
    },
    {
      "cell_type": "markdown",
      "source": [
        "Program checks if a year is a leap year"
      ],
      "metadata": {
        "id": "UQ1ymNHWc_Go"
      }
    },
    {
      "cell_type": "code",
      "source": [
        "# Program checks if the year entered by user is a leap year\n",
        "\n",
        "def main():\n",
        "  year_entered = get_year()\n",
        "  print(check_year(year_entered))\n",
        "\n",
        "\n",
        "def get_year():\n",
        "  while True:\n",
        "   try:\n",
        "     return int(input(\"Enter a year: \"))\n",
        "   except ValueError:\n",
        "     print (\"Invalid entry\")\n",
        "\n",
        "def check_year(yr):\n",
        "   if (yr % 100 == 0 and yr % 400 == 0) or (yr % 4 == 0 and yr % 100 != 0):\n",
        "      return \"Leap Year\"\n",
        "   else:\n",
        "       return \"Not a Leap Year\"\n",
        "\n",
        "main()"
      ],
      "metadata": {
        "id": "83o1hJAldFeH"
      },
      "execution_count": null,
      "outputs": []
    }
  ]
}