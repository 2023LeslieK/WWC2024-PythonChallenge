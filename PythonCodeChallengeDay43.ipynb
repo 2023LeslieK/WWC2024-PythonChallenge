{
  "nbformat": 4,
  "nbformat_minor": 0,
  "metadata": {
    "colab": {
      "provenance": [],
      "authorship_tag": "ABX9TyNYQ3FayCOcT4Dwd4BAHxQP",
      "include_colab_link": true
    },
    "kernelspec": {
      "name": "python3",
      "display_name": "Python 3"
    },
    "language_info": {
      "name": "python"
    }
  },
  "cells": [
    {
      "cell_type": "markdown",
      "metadata": {
        "id": "view-in-github",
        "colab_type": "text"
      },
      "source": [
        "<a href=\"https://colab.research.google.com/github/2023LeslieK/WWC2024-PythonChallenge/blob/main/PythonCodeChallengeDay43.ipynb\" target=\"_parent\"><img src=\"https://colab.research.google.com/assets/colab-badge.svg\" alt=\"Open In Colab\"/></a>"
      ]
    },
    {
      "cell_type": "markdown",
      "source": [
        "Program that removes all whitespace from a given string"
      ],
      "metadata": {
        "id": "N1Gpwv97m6Cm"
      }
    },
    {
      "cell_type": "code",
      "execution_count": null,
      "metadata": {
        "id": "HgOI0_jym2I2"
      },
      "outputs": [],
      "source": [
        "#Program removes all whitespaces from a given string\n",
        "\n",
        "\n",
        "def main():\n",
        "   print(f\"String with spaces removed is \\\"{remove_whitespaces()}\\\"\")\n",
        "\n",
        "# Function to prompt user for sentence and remove spaces using string replace function\n",
        "def remove_whitespaces():\n",
        "    return input(\"Enter sentence: \").replace(\" \", \"\")\n",
        "\n",
        "main()\n",
        "\n"
      ]
    },
    {
      "cell_type": "code",
      "execution_count": null,
      "metadata": {
        "id": "gYjy3bNqkTX0"
      },
      "outputs": [],
      "source": [
        "#Program removes all whitespaces from a given string\n",
        "import re\n",
        "\n",
        "def main():\n",
        "   print(f\"String with spaces removed is \\\"{remove_whitespaces()}\\\"\")\n",
        "\n",
        "# Function to prompt user for sentence and remove spaces using regex re.sub() function\n",
        "def remove_whitespaces():\n",
        "    input_string = input(\"Enter sentence: \")\n",
        "    return re.sub(' ', '', input_string)\n",
        "\n",
        "\n",
        "main()\n",
        "\n"
      ]
    }
  ]
}