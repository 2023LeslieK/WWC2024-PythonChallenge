{
  "nbformat": 4,
  "nbformat_minor": 0,
  "metadata": {
    "colab": {
      "provenance": [],
      "authorship_tag": "ABX9TyN3b9u3wHHVAjLh4A1XMd4P",
      "include_colab_link": true
    },
    "kernelspec": {
      "name": "python3",
      "display_name": "Python 3"
    },
    "language_info": {
      "name": "python"
    }
  },
  "cells": [
    {
      "cell_type": "markdown",
      "metadata": {
        "id": "view-in-github",
        "colab_type": "text"
      },
      "source": [
        "<a href=\"https://colab.research.google.com/github/2023LeslieK/WWC2024-PythonChallenge/blob/main/PythonCodeChallengeDay35.ipynb\" target=\"_parent\"><img src=\"https://colab.research.google.com/assets/colab-badge.svg\" alt=\"Open In Colab\"/></a>"
      ]
    },
    {
      "cell_type": "markdown",
      "source": [
        "Simple unit test for a function that adds two numbers"
      ],
      "metadata": {
        "id": "Q2BnPRc-bUTP"
      }
    },
    {
      "cell_type": "code",
      "source": [
        "# Simple unit test for a function that adds two numbers\n",
        "\n",
        "def add_numbers(num1, num2):\n",
        "    return num1 + num2\n",
        "\n",
        "\n",
        "result = add_numbers(10, 15)\n",
        "print(result)\n",
        "\n",
        "\n",
        "import unittest\n",
        "\n",
        "class Test_AddNumbers(unittest.TestCase):\n",
        "  def test_add_numbers(self):\n",
        "    assert add_numbers(4,7) == 11\n",
        "    self.assertEqual(add_numbers(5,5), 10, 'The sum is wrong.')\n",
        "    self.assertEqual(add_numbers(8, -4), 4, 'The sum is wrong.')\n",
        "\n",
        "if __name__=='__main__'\n",
        "     unittest.main()\n",
        "\n",
        "\n",
        "#unittest.main(argv=[''], verbosity=2, exit=False)"
      ],
      "metadata": {
        "colab": {
          "base_uri": "https://localhost:8080/"
        },
        "id": "Hg9eP30FX03F",
        "outputId": "d69a0698-cd7a-402d-bdd8-581314c7f926"
      },
      "execution_count": 10,
      "outputs": [
        {
          "output_type": "stream",
          "name": "stderr",
          "text": [
            "test_add_numbers (__main__.Test_AddNumbers) ... ok\n",
            "\n",
            "----------------------------------------------------------------------\n",
            "Ran 1 test in 0.008s\n",
            "\n",
            "OK\n"
          ]
        },
        {
          "output_type": "stream",
          "name": "stdout",
          "text": [
            "25\n"
          ]
        },
        {
          "output_type": "execute_result",
          "data": {
            "text/plain": [
              "<unittest.main.TestProgram at 0x7a36335765f0>"
            ]
          },
          "metadata": {},
          "execution_count": 10
        }
      ]
    }
  ]
}