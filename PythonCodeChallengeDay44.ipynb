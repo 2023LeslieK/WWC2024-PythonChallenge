{
  "nbformat": 4,
  "nbformat_minor": 0,
  "metadata": {
    "colab": {
      "provenance": [],
      "authorship_tag": "ABX9TyNKHJlhYHv2yDsyRSyhwdYK",
      "include_colab_link": true
    },
    "kernelspec": {
      "name": "python3",
      "display_name": "Python 3"
    },
    "language_info": {
      "name": "python"
    }
  },
  "cells": [
    {
      "cell_type": "markdown",
      "metadata": {
        "id": "view-in-github",
        "colab_type": "text"
      },
      "source": [
        "<a href=\"https://colab.research.google.com/github/2023LeslieK/WWC2024-PythonChallenge/blob/main/PythonCodeChallengeDay44.ipynb\" target=\"_parent\"><img src=\"https://colab.research.google.com/assets/colab-badge.svg\" alt=\"Open In Colab\"/></a>"
      ]
    },
    {
      "cell_type": "markdown",
      "source": [
        "Program that reads an integer from the user and handles invalid inputs."
      ],
      "metadata": {
        "id": "Qg4CYvXknMV4"
      }
    },
    {
      "cell_type": "code",
      "execution_count": null,
      "metadata": {
        "id": "0kmb_nKbnJhl"
      },
      "outputs": [],
      "source": [
        "#Program takes as input an integer from the user and handles invalid inputs.\n",
        "\n",
        "# Main function\n",
        "def main():\n",
        "   get_integer()\n",
        "\n",
        "\n",
        "# Function to prompt user for sentence\n",
        "def get_integer():\n",
        "    try:\n",
        "      int(input(\"Enter integer: \"))\n",
        "      print(\"Valid input.\")\n",
        "    except ValueError:\n",
        "      print(\"You did not enter an integer! Enter only integers.\")\n",
        "\n",
        "main()"
      ]
    }
  ]
}