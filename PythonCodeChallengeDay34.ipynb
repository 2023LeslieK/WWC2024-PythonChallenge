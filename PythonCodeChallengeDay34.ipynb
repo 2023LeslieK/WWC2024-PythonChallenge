{
  "cells": [
    {
      "cell_type": "markdown",
      "metadata": {
        "id": "view-in-github",
        "colab_type": "text"
      },
      "source": [
        "<a href=\"https://colab.research.google.com/github/2023LeslieK/WWC2024-PythonChallenge/blob/main/PythonCodeChallengeDay34.ipynb\" target=\"_parent\"><img src=\"https://colab.research.google.com/assets/colab-badge.svg\" alt=\"Open In Colab\"/></a>"
      ]
    },
    {
      "cell_type": "markdown",
      "metadata": {
        "id": "75j3sj65u4mQ"
      },
      "source": [
        "Python program to merge two dictionaries"
      ]
    },
    {
      "cell_type": "code",
      "execution_count": 1,
      "metadata": {
        "colab": {
          "base_uri": "https://localhost:8080/"
        },
        "id": "XTutqu0Au1N-",
        "outputId": "1367db5c-e7a2-45dd-d1f6-8fff4f84fff6"
      },
      "outputs": [
        {
          "output_type": "stream",
          "name": "stdout",
          "text": [
            "{'Name': 'Mary', 'Colour': 'Red', 'Sister': 'Jane', 'Mood': 'Blue'}\n"
          ]
        }
      ],
      "source": [
        "# Program merges two dictionaries using double asterisk to unpack the two dictionaries\n",
        "# and merge them into a new variable\n",
        "\n",
        "def main():\n",
        "    dict1 = {'Name': 'Mary', 'Colour': 'Red'}\n",
        "    dict2 = {'Sister': 'Jane', 'Mood': 'Blue'}\n",
        "    print(merge_dict(dict1, dict2))\n",
        "\n",
        "def merge_dict(dict1, dict2):\n",
        "   dict3 = {**dict1, **dict2}\n",
        "   return dict3\n",
        "\n",
        "main()"
      ]
    },
    {
      "cell_type": "code",
      "source": [
        "# Program merges two dictionaries using the dict() method\n",
        "\n",
        "def main():\n",
        "    dict1 = {'Name': 'Mary', 'Colour': 'Red'}\n",
        "    dict2 = {'Sister': 'Jane', 'Mood': 'Blue'}\n",
        "    print(merge_dict(dict1, dict2))\n",
        "\n",
        "def merge_dict(dict1, dict2):\n",
        "   dict3 = dict(dict1, **dict2)\n",
        "   return dict3\n",
        "\n",
        "main()"
      ],
      "metadata": {
        "colab": {
          "base_uri": "https://localhost:8080/"
        },
        "id": "kFutDv_lLoni",
        "outputId": "2a4d906d-71f8-4d2a-d935-920a8a283b26"
      },
      "execution_count": 2,
      "outputs": [
        {
          "output_type": "stream",
          "name": "stdout",
          "text": [
            "{'Name': 'Mary', 'Colour': 'Red', 'Sister': 'Jane', 'Mood': 'Blue'}\n"
          ]
        }
      ]
    },
    {
      "cell_type": "code",
      "source": [
        "# Program merges two dictionaries using dictionary update() method\n",
        "\n",
        "def main():\n",
        "    dict1 = {'Name': 'Mary', 'Colour': 'Red'}\n",
        "    dict2 = {'Sister': 'Jane', 'Mood': 'Blue'}\n",
        "    print(merge_dict(dict1, dict2))\n",
        "\n",
        "def merge_dict(dict1, dict2):\n",
        "   dict2.update(dict1)\n",
        "   return dict2\n",
        "\n",
        "main()"
      ],
      "metadata": {
        "colab": {
          "base_uri": "https://localhost:8080/"
        },
        "id": "kLL1ba_jL0wh",
        "outputId": "04143678-947d-4e6c-d976-2521ce474619"
      },
      "execution_count": 5,
      "outputs": [
        {
          "output_type": "stream",
          "name": "stdout",
          "text": [
            "{'Sister': 'Jane', 'Mood': 'Blue', 'Name': 'Mary', 'Colour': 'Red'}\n"
          ]
        }
      ]
    }
  ],
  "metadata": {
    "colab": {
      "provenance": [],
      "authorship_tag": "ABX9TyM42wvpZL8iX03FqFJF0xg8",
      "include_colab_link": true
    },
    "kernelspec": {
      "display_name": "Python 3",
      "name": "python3"
    },
    "language_info": {
      "name": "python"
    }
  },
  "nbformat": 4,
  "nbformat_minor": 0
}