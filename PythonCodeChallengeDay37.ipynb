{
  "nbformat": 4,
  "nbformat_minor": 0,
  "metadata": {
    "colab": {
      "provenance": [],
      "authorship_tag": "ABX9TyPm0JqQU8usA47Ok/rfVe69",
      "include_colab_link": true
    },
    "kernelspec": {
      "name": "python3",
      "display_name": "Python 3"
    },
    "language_info": {
      "name": "python"
    }
  },
  "cells": [
    {
      "cell_type": "markdown",
      "metadata": {
        "id": "view-in-github",
        "colab_type": "text"
      },
      "source": [
        "<a href=\"https://colab.research.google.com/github/2023LeslieK/WWC2024-PythonChallenge/blob/main/PythonCodeChallengeDay37.ipynb\" target=\"_parent\"><img src=\"https://colab.research.google.com/assets/colab-badge.svg\" alt=\"Open In Colab\"/></a>"
      ]
    },
    {
      "cell_type": "markdown",
      "source": [
        "Program to iterate through a dictionary and print its keys and values."
      ],
      "metadata": {
        "id": "TCb2_InBatr0"
      }
    },
    {
      "cell_type": "code",
      "execution_count": null,
      "metadata": {
        "id": "0C-oYqm1aJBN"
      },
      "outputs": [],
      "source": [
        "# Program iterates through a dictionary and print its keys and values\n",
        "\n",
        "def main():\n",
        "  my_dict = {'Fruit': \"Apple\", 'Colour': \"Red\", 'Taste':\"Sweet\"}\n",
        "  print_dict(my_dict)\n",
        "\n",
        "def print_dict(my_dict):\n",
        "    for entry in my_dict:\n",
        "      print(entry, my_dict[entry], sep = \": \")\n",
        "\n",
        "main()\n"
      ]
    },
    {
      "cell_type": "code",
      "source": [
        "# Program iterates through a dictionary and print its keys and values\n",
        "\n",
        "def main():\n",
        "  my_dict = {'Fruit': \"Apple\", 'Colour': \"Red\", 'Taste':\"Sweet\"}\n",
        "  print_dict(my_dict)\n",
        "\n",
        "# Using list comprehension\n",
        "def print_dict(my_dict):\n",
        "      print(\"Dict key-pair values are: \", end = \" \")\n",
        "      print([(entry, my_dict[entry]) for entry in my_dict])\n",
        "\n",
        "main()\n"
      ],
      "metadata": {
        "id": "FPE9QKN5fQxV"
      },
      "execution_count": null,
      "outputs": []
    },
    {
      "cell_type": "code",
      "source": [
        "# Program iterates through a dictionary and print its keys and values\n",
        "\n",
        "def main():\n",
        "  my_dict = {'Fruit': \"Apple\", 'Colour': \"Red\", 'Taste':\"Sweet\"}\n",
        "  print_dict(my_dict)\n",
        "\n",
        "# Using dict.items() function\n",
        "def print_dict(my_dict):\n",
        "    print(\"Dict key-pair values are: \")\n",
        "    for key, value in my_dict.items():\n",
        "      print(key, value, sep = \": \")\n",
        "\n",
        "main()\n"
      ],
      "metadata": {
        "id": "eeJhoelikIF5"
      },
      "execution_count": null,
      "outputs": []
    },
    {
      "cell_type": "code",
      "source": [
        "# Program iterates through a dictionary and print its keys and values\n",
        "\n",
        "def main():\n",
        "  my_dict = get_dict()\n",
        "  print_dict(my_dict)\n",
        "\n",
        "def get_dict():\n",
        "  #prompt user for dictionary items\n",
        "  return my_dict\n",
        "\n",
        "def print_dict(my_dict):\n",
        "  if len(my_dict) < 1:\n",
        "    print(\"This dictionary is empty.\")\n",
        "  else:\n",
        "    for entry in my_dict:\n",
        "      print(entry, my_dict[entry], sep=\":\")\n",
        "\n",
        "main()"
      ],
      "metadata": {
        "id": "7-s8ZPJ5eOib"
      },
      "execution_count": null,
      "outputs": []
    }
  ]
}