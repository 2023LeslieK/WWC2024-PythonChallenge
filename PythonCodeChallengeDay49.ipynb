{
  "nbformat": 4,
  "nbformat_minor": 0,
  "metadata": {
    "colab": {
      "provenance": [],
      "authorship_tag": "ABX9TyP/nD3nr7ZA4ThLL2wTD7ym",
      "include_colab_link": true
    },
    "kernelspec": {
      "name": "python3",
      "display_name": "Python 3"
    },
    "language_info": {
      "name": "python"
    }
  },
  "cells": [
    {
      "cell_type": "markdown",
      "metadata": {
        "id": "view-in-github",
        "colab_type": "text"
      },
      "source": [
        "<a href=\"https://colab.research.google.com/github/2023LeslieK/WWC2024-PythonChallenge/blob/main/PythonCodeChallengeDay49.ipynb\" target=\"_parent\"><img src=\"https://colab.research.google.com/assets/colab-badge.svg\" alt=\"Open In Colab\"/></a>"
      ]
    },
    {
      "cell_type": "markdown",
      "source": [
        "Program that implements the bubble sort algorithm."
      ],
      "metadata": {
        "id": "HNNmhFE_C7zl"
      }
    },
    {
      "cell_type": "code",
      "execution_count": null,
      "metadata": {
        "id": "BI2Y-FKKCy4L"
      },
      "outputs": [],
      "source": [
        "# Program implements the bubble sort algorithm.\n",
        "\n",
        "num_list = [4, 7, 3, 8, 46, 92, 1, 35]\n",
        "\n",
        "def main():\n",
        "  print(f\"List sorted in ascending order is: {bubble_sort(num_list)}\")\n",
        "\n",
        "# Bubble sort algorithm using recursion\n",
        "\n",
        "def bubble_sort(num_list):\n",
        "    sorted = False\n",
        "\n",
        "    # While list is not sorted, compare elements\n",
        "    while not sorted:\n",
        "        sorted = True\n",
        "        for i in range(0, len(num_list) -1):\n",
        "\n",
        "          # If number on left is greater than number on right, swap places\n",
        "          if num_list[i] > num_list[i+1]:\n",
        "              num_list[i], num_list[i+1] = num_list[i+1], num_list[i]\n",
        "\n",
        "              sorted = False\n",
        "\n",
        "    return num_list\n",
        "\n",
        "\n",
        "main()"
      ]
    }
  ]
}