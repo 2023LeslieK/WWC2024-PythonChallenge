{
  "nbformat": 4,
  "nbformat_minor": 0,
  "metadata": {
    "colab": {
      "provenance": [],
      "authorship_tag": "ABX9TyP9Wc2/XeRqc3l6vtK76EuQ",
      "include_colab_link": true
    },
    "kernelspec": {
      "name": "python3",
      "display_name": "Python 3"
    },
    "language_info": {
      "name": "python"
    }
  },
  "cells": [
    {
      "cell_type": "markdown",
      "metadata": {
        "id": "view-in-github",
        "colab_type": "text"
      },
      "source": [
        "<a href=\"https://colab.research.google.com/github/2023LeslieK/WWC2024-PythonChallenge/blob/main/PythonCodeChallengeDay22.ipynb\" target=\"_parent\"><img src=\"https://colab.research.google.com/assets/colab-badge.svg\" alt=\"Open In Colab\"/></a>"
      ]
    },
    {
      "cell_type": "markdown",
      "source": [
        "Program to find the second-largest element in a list"
      ],
      "metadata": {
        "id": "twauN3Qx4X6P"
      }
    },
    {
      "cell_type": "code",
      "source": [
        "# Program to find the second-largest element in a list\n",
        "\n",
        "# Main function\n",
        "def main():\n",
        "  ulist = get_list()\n",
        "  if len(ulist) > 1: # If there are at least 2 elements in the list find the second largest. Else print error.\n",
        "      print(f\"The second largest element in the list {ulist} is {find_sec_largest(ulist)}.\")\n",
        "  else:\n",
        "      print(\"Invalid entry. Enter at least two numbers.\")\n",
        "\n",
        "# Function to prompt user for input\n",
        "\n",
        "def get_list():\n",
        "    user_str = input(\"Enter at least two numbers separated by commas: \").replace(\" \", \"\") #remove any whitespace\n",
        "    user_list = [int(x) for x in user_str.split(\",\")] # Convert string to list\n",
        "    return user_list\n",
        "\n",
        "\n",
        "# Function to find second largest element in the list\n",
        "def find_sec_largest(ulist):\n",
        "  ulist.sort(reverse=True) #sort list in descending order\n",
        "  return(ulist[1]) # return the second largest element in the list\n",
        "\n",
        "\n",
        "main()"
      ],
      "metadata": {
        "id": "l9mYHpj4HyQO"
      },
      "execution_count": null,
      "outputs": []
    }
  ]
}