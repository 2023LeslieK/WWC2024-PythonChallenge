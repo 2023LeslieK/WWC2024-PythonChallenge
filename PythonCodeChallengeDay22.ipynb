{
  "nbformat": 4,
  "nbformat_minor": 0,
  "metadata": {
    "colab": {
      "provenance": [],
      "authorship_tag": "ABX9TyNVWse06IKTfGSuM5PbphRf",
      "include_colab_link": true
    },
    "kernelspec": {
      "name": "python3",
      "display_name": "Python 3"
    },
    "language_info": {
      "name": "python"
    }
  },
  "cells": [
    {
      "cell_type": "markdown",
      "metadata": {
        "id": "view-in-github",
        "colab_type": "text"
      },
      "source": [
        "<a href=\"https://colab.research.google.com/github/2023LeslieK/WWC2024-PythonChallenge/blob/main/PythonCodeChallengeDay22.ipynb\" target=\"_parent\"><img src=\"https://colab.research.google.com/assets/colab-badge.svg\" alt=\"Open In Colab\"/></a>"
      ]
    },
    {
      "cell_type": "markdown",
      "source": [
        "Program to find the second-largest element in a list"
      ],
      "metadata": {
        "id": "twauN3Qx4X6P"
      }
    },
    {
      "cell_type": "code",
      "source": [
        "# Program to find the second-largest element in a list\n",
        "\n",
        "# Main function\n",
        "\n",
        "def main():\n",
        "  get_list()\n",
        "\n",
        "\n",
        "# Function to prompt user for input\n",
        "def get_list():\n",
        "    user_list = input(\"Enter a list of numbers separated by commas: \").split(\",\") # Convert string to list\n",
        "    user_list = list(filter(None,user_list)) #remove empty strings from list\n",
        "\n",
        "    if len(user_list) > 1:\n",
        "       user_list = [float(x) for x in user_list] # Convert string to list\n",
        "       find_sec_largest(user_list)\n",
        "\n",
        "    # If list has less than two entries, error.\n",
        "    else:\n",
        "      print(\"Error. The list needs to have at least two elements.\")\n",
        "\n",
        "\n",
        "# Function to find second largest element in the list\n",
        "def find_sec_largest(user_list):\n",
        "  user_list.sort(reverse=True) #sort list is descending order\n",
        "  print(f\"Second largest element in the list is {user_list[1]}\") # Display the second largest element in the list\n",
        "\n",
        "\n",
        "main()"
      ],
      "metadata": {
        "id": "l9mYHpj4HyQO"
      },
      "execution_count": null,
      "outputs": []
    }
  ]
}