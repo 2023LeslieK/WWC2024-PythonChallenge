{
  "nbformat": 4,
  "nbformat_minor": 0,
  "metadata": {
    "colab": {
      "provenance": [],
      "authorship_tag": "ABX9TyPBTAFeWLDmKznyN58QtoKk",
      "include_colab_link": true
    },
    "kernelspec": {
      "name": "python3",
      "display_name": "Python 3"
    },
    "language_info": {
      "name": "python"
    }
  },
  "cells": [
    {
      "cell_type": "markdown",
      "metadata": {
        "id": "view-in-github",
        "colab_type": "text"
      },
      "source": [
        "<a href=\"https://colab.research.google.com/github/2023LeslieK/WWC2024-PythonChallenge/blob/main/PythonCodeChallengeDay54.ipynb\" target=\"_parent\"><img src=\"https://colab.research.google.com/assets/colab-badge.svg\" alt=\"Open In Colab\"/></a>"
      ]
    },
    {
      "cell_type": "markdown",
      "source": [
        "A function to find all words in a sentence that start with a vowel."
      ],
      "metadata": {
        "id": "YsxZcKFNTAku"
      }
    },
    {
      "cell_type": "code",
      "execution_count": null,
      "metadata": {
        "id": "tFUUTUQeS-kr"
      },
      "outputs": [],
      "source": [
        "# Function takes a string and returns the reverse of each word.\n",
        "\n",
        "import re\n",
        "\n",
        "# Main function\n",
        "def main():\n",
        "   sentence = get_sentence()\n",
        "   print(f\"The words beginning with vowels are: {find_words(sentence)}\")\n",
        "\n",
        "# Function to prompt user for sentence\n",
        "def get_sentence():\n",
        "    return input(\"Enter sentence: \").replace(\",\", \"\")\n",
        "\n",
        "# Function finds words beginning with a vowel\n",
        "\n",
        "def find_words(sentence):\n",
        "    words = sentence.split(\" \")\n",
        "    vowel_words=[]\n",
        "\n",
        "    # For each word, check if the first character is a vowel\n",
        "    # If it is add to new list\n",
        "\n",
        "\n",
        "    for word in words:\n",
        "       if re.match(r'[aeiouAEIOU]', word[0]):\n",
        "          vowel_words.append(word)\n",
        "\n",
        "    # Joining the new list of words to new string\n",
        "    return (\", \".join(vowel_words))\n",
        "\n",
        "\n",
        "\n",
        "main()"
      ]
    }
  ]
}