{
  "nbformat": 4,
  "nbformat_minor": 0,
  "metadata": {
    "colab": {
      "provenance": [],
      "authorship_tag": "ABX9TyNp3VqNGMyCOwJVmETm0V5o",
      "include_colab_link": true
    },
    "kernelspec": {
      "name": "python3",
      "display_name": "Python 3"
    },
    "language_info": {
      "name": "python"
    }
  },
  "cells": [
    {
      "cell_type": "markdown",
      "metadata": {
        "id": "view-in-github",
        "colab_type": "text"
      },
      "source": [
        "<a href=\"https://colab.research.google.com/github/2023LeslieK/WWC2024-PythonChallenge/blob/main/PythonCodeChallengeDay58.ipynb\" target=\"_parent\"><img src=\"https://colab.research.google.com/assets/colab-badge.svg\" alt=\"Open In Colab\"/></a>"
      ]
    },
    {
      "cell_type": "markdown",
      "source": [
        "Create a function that converts a string to an integer and handles ValueError"
      ],
      "metadata": {
        "id": "CAH0Zsm6rzaS"
      }
    },
    {
      "cell_type": "code",
      "execution_count": null,
      "metadata": {
        "id": "yAJg0IyorunM"
      },
      "outputs": [],
      "source": [
        "def convert_string(input_string):\n",
        "   try:\n",
        "     print(f\"Integer value is: {int(input_string)}\")\n",
        "\n",
        "   except ValueError:\n",
        "      print(\"Invalid input. Cannot convert string to integer.\")\n",
        "\n",
        "input_string = input(\"Enter value: \")\n",
        "convert_string(input_string)"
      ]
    }
  ]
}