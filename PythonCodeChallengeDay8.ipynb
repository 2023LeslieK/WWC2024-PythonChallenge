{
  "nbformat": 4,
  "nbformat_minor": 0,
  "metadata": {
    "colab": {
      "provenance": [],
      "authorship_tag": "ABX9TyNOZkE3byUkUB0pKs0wLqL2",
      "include_colab_link": true
    },
    "kernelspec": {
      "name": "python3",
      "display_name": "Python 3"
    },
    "language_info": {
      "name": "python"
    }
  },
  "cells": [
    {
      "cell_type": "markdown",
      "metadata": {
        "id": "view-in-github",
        "colab_type": "text"
      },
      "source": [
        "<a href=\"https://colab.research.google.com/github/2023LeslieK/WWC2024-PythonChallenge/blob/main/PythonCodeChallengeDay8.ipynb\" target=\"_parent\"><img src=\"https://colab.research.google.com/assets/colab-badge.svg\" alt=\"Open In Colab\"/></a>"
      ]
    },
    {
      "cell_type": "markdown",
      "source": [
        "Program that accepts a string and calculates the number of uppercase and lowercase letters in it."
      ],
      "metadata": {
        "id": "BneU8N9SLlrp"
      }
    },
    {
      "cell_type": "code",
      "source": [
        "# Main function - get input\n",
        "\n",
        "def main():\n",
        " input_string = input(\"Enter string: \")\n",
        " calc_letters(input_string)\n",
        "\n",
        "\n",
        "# Function to count number of uppercase and lowercase letters\n",
        "def calc_letters(istring):\n",
        " ucount = 0\n",
        " lcount = 0\n",
        "\n",
        " for letter in istring:\n",
        "     if letter.isupper():\n",
        "        ucount = ucount + 1\n",
        "     elif letter.islower():\n",
        "        lcount = lcount + 1\n",
        " print(f\"There are {ucount} uppercase letters and {lcount} lowercase letters.\")\n",
        "\n",
        "\n",
        "main()"
      ],
      "metadata": {
        "id": "AAMYIrgaL1cW"
      },
      "execution_count": null,
      "outputs": []
    }
  ]
}