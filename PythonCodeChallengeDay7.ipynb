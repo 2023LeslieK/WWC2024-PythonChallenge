{
  "nbformat": 4,
  "nbformat_minor": 0,
  "metadata": {
    "colab": {
      "provenance": [],
      "authorship_tag": "ABX9TyN5v0fdolOo6kpvPaXSkOls",
      "include_colab_link": true
    },
    "kernelspec": {
      "name": "python3",
      "display_name": "Python 3"
    },
    "language_info": {
      "name": "python"
    }
  },
  "cells": [
    {
      "cell_type": "markdown",
      "metadata": {
        "id": "view-in-github",
        "colab_type": "text"
      },
      "source": [
        "<a href=\"https://colab.research.google.com/github/2023LeslieK/WWC2024-PythonChallenge/blob/main/PythonCodeChallengeDay7.ipynb\" target=\"_parent\"><img src=\"https://colab.research.google.com/assets/colab-badge.svg\" alt=\"Open In Colab\"/></a>"
      ]
    },
    {
      "cell_type": "markdown",
      "source": [
        "Program to check if a number is positive, negative, or zero."
      ],
      "metadata": {
        "id": "2tUkVw5R5FqC"
      }
    },
    {
      "cell_type": "code",
      "source": [
        "# Program will prompt user for a number and display whether number is positive, negative or zero.\n",
        "\n",
        "#Prompt user to enter a number. Display error if input is not a number and prompt user to retry\n",
        "\n",
        "def main():\n",
        "    while True:\n",
        "       try:\n",
        "          number = float(input(\"Enter a number and press enter: \"))\n",
        "          check_num(number)\n",
        "          break\n",
        "       except ValueError:\n",
        "         print(\"Oops!  That was not a valid number.  Try again...\")\n",
        "\n",
        "# Function to check with number is positive, negative or zero\n",
        "def check_num(num):\n",
        "    if num > 0:\n",
        "        print(f\"The number {num} is positive.\")\n",
        "    elif num == 0:\n",
        "        print(f\"The number entered is zero.\")\n",
        "    else:\n",
        "        print(f\"The number {num} is negative.\")\n",
        "\n",
        "main()"
      ],
      "metadata": {
        "id": "ZcFQWEWM5Tzq"
      },
      "execution_count": null,
      "outputs": []
    }
  ]
}