{
  "nbformat": 4,
  "nbformat_minor": 0,
  "metadata": {
    "colab": {
      "provenance": [],
      "authorship_tag": "ABX9TyMGbNN3I+L/LYnFdeLve8fq",
      "include_colab_link": true
    },
    "kernelspec": {
      "name": "python3",
      "display_name": "Python 3"
    },
    "language_info": {
      "name": "python"
    }
  },
  "cells": [
    {
      "cell_type": "markdown",
      "metadata": {
        "id": "view-in-github",
        "colab_type": "text"
      },
      "source": [
        "<a href=\"https://colab.research.google.com/github/2023LeslieK/WWC2024-PythonChallenge/blob/main/PythonCodeChallengeDay13.ipynb\" target=\"_parent\"><img src=\"https://colab.research.google.com/assets/colab-badge.svg\" alt=\"Open In Colab\"/></a>"
      ]
    },
    {
      "cell_type": "markdown",
      "source": [
        "Program to shuffle the elements of a list randomly\n"
      ],
      "metadata": {
        "id": "paXuRpiISsWI"
      }
    },
    {
      "cell_type": "code",
      "source": [
        "import random\n",
        "\n",
        "def main():\n",
        "    input_list = (input(\"Enter a list of elements separated by comma. Press Enter when done: \").replace(\" \", \"\").split(\",\"))\n",
        "    print(f\"Original list: {input_list}\")\n",
        "    random.shuffle(input_list) #randomly shuffle elements in list\n",
        "    print(f\"Shuffled list: {input_list}\")\n",
        "\n",
        "main()"
      ],
      "metadata": {
        "id": "C6aeSq9DS3w4"
      },
      "execution_count": null,
      "outputs": []
    }
  ]
}