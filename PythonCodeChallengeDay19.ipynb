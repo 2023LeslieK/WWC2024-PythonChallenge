{
  "nbformat": 4,
  "nbformat_minor": 0,
  "metadata": {
    "colab": {
      "provenance": [],
      "authorship_tag": "ABX9TyMC+pv+llOmj/e7ZcLEXjUg",
      "include_colab_link": true
    },
    "kernelspec": {
      "name": "python3",
      "display_name": "Python 3"
    },
    "language_info": {
      "name": "python"
    }
  },
  "cells": [
    {
      "cell_type": "markdown",
      "metadata": {
        "id": "view-in-github",
        "colab_type": "text"
      },
      "source": [
        "<a href=\"https://colab.research.google.com/github/2023LeslieK/WWC2024-PythonChallenge/blob/main/PythonCodeChallengeDay19.ipynb\" target=\"_parent\"><img src=\"https://colab.research.google.com/assets/colab-badge.svg\" alt=\"Open In Colab\"/></a>"
      ]
    },
    {
      "cell_type": "markdown",
      "source": [
        "Program to calculate the factorial of a number."
      ],
      "metadata": {
        "id": "wl0soLs8tNZ7"
      }
    },
    {
      "cell_type": "code",
      "source": [
        "# Function to calculate te factorial of a number.\n",
        "\n",
        "def main():\n",
        "   factorial = calc_factorial(get_number())\n",
        "   print(f\"Factorial is {factorial}\")\n",
        "\n",
        "\n",
        "def get_number():\n",
        "    return int(input(\"Enter a positive number: \"))\n",
        "\n",
        "\n",
        "def calc_factorial(num): # Calculate the factorial using a while loop\n",
        "    i = 1\n",
        "    new_num = num\n",
        "    while i < num:\n",
        "       new_num = new_num * (num - i)\n",
        "       i = i + 1\n",
        "\n",
        "    return new_num\n",
        "\n",
        "\n",
        "main()"
      ],
      "metadata": {
        "colab": {
          "base_uri": "https://localhost:8080/"
        },
        "id": "r9o-wDOntTTw",
        "outputId": "e9ad9410-6d12-4fcf-fd76-8bbbde72f44d"
      },
      "execution_count": null,
      "outputs": [
        {
          "output_type": "stream",
          "name": "stdout",
          "text": [
            "Enter a positive number: 4\n",
            "Factorial is 24\n"
          ]
        }
      ]
    },
    {
      "cell_type": "code",
      "source": [
        "\n",
        "# Function to calculate the factorial of a number.\n",
        "\n",
        "def main():\n",
        "   factorial = calc_factorial(get_number())\n",
        "   print(f\"Factorial is {factorial}\")\n",
        "\n",
        "\n",
        "def get_number():\n",
        "    return int(input(\"Enter a positive number: \"))\n",
        "\n",
        "\n",
        "def calc_factorial(num): # Calculate the factorial using recursion\n",
        "\n",
        "    if num in (0,1):\n",
        "       return 1\n",
        "    else:\n",
        "       return num * calc_factorial(num - 1)\n",
        "\n",
        "\n",
        "main()"
      ],
      "metadata": {
        "colab": {
          "base_uri": "https://localhost:8080/"
        },
        "id": "Zw4QrdBzGcN-",
        "outputId": "0c1bd058-8cea-467a-99b2-701d90d4dc57"
      },
      "execution_count": null,
      "outputs": [
        {
          "output_type": "stream",
          "name": "stdout",
          "text": [
            "Enter a positive number: 4\n",
            "Factorial is 24\n"
          ]
        }
      ]
    }
  ]
}