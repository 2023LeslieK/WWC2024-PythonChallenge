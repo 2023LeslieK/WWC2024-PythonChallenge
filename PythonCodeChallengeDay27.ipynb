{
  "nbformat": 4,
  "nbformat_minor": 0,
  "metadata": {
    "colab": {
      "provenance": [],
      "authorship_tag": "ABX9TyMTc9U5l9MhDUGbgtsZquLq",
      "include_colab_link": true
    },
    "kernelspec": {
      "name": "python3",
      "display_name": "Python 3"
    },
    "language_info": {
      "name": "python"
    }
  },
  "cells": [
    {
      "cell_type": "markdown",
      "metadata": {
        "id": "view-in-github",
        "colab_type": "text"
      },
      "source": [
        "<a href=\"https://colab.research.google.com/github/2023LeslieK/WWC2024-PythonChallenge/blob/main/PythonCodeChallengeDay27.ipynb\" target=\"_parent\"><img src=\"https://colab.research.google.com/assets/colab-badge.svg\" alt=\"Open In Colab\"/></a>"
      ]
    },
    {
      "cell_type": "markdown",
      "source": [
        "Program that sorts a list of strings alphabetically."
      ],
      "metadata": {
        "id": "6hqQKL-WN7mP"
      }
    },
    {
      "cell_type": "code",
      "execution_count": 6,
      "metadata": {
        "id": "97Xe6zQxN3rx",
        "colab": {
          "base_uri": "https://localhost:8080/"
        },
        "outputId": "79b637d1-4068-4678-f104-c5ea21dacbea"
      },
      "outputs": [
        {
          "output_type": "stream",
          "name": "stdout",
          "text": [
            "Enter a list of strings separated by commas: Then, event, the, me\n",
            "List of strings in alphabetical order: [' event', ' me', ' the', 'Then']\n"
          ]
        }
      ],
      "source": [
        "# Program that sorts a list of strings alphabetically\n",
        "\n",
        "def main():\n",
        "  input_strings = get_strings()\n",
        "  print(f\"List of strings in alphabetical order: {sort_strings(input_strings)}\")\n",
        "\n",
        "# Function to prompt user for input, then convert string input to list of strings\n",
        "def get_strings():\n",
        "  return input(\"Enter a list of strings separated by commas: \").strip().split(\",\")\n",
        "\n",
        "# Sort strings in alphabetical order using Python's sorted function\n",
        "def sort_strings(strings):\n",
        "    \"\"\"\n",
        "    The key parameter is used for case-insensitive sorting.\n",
        "    # It lets us pass in a str.lower() function, which converts all the strings to lowercase while sorting them.\n",
        "    \"\"\"\n",
        "    sorted_strings = sorted(strings, key=str.lower) # Sort the list and store in new list sorted_strings\n",
        "    return sorted_strings\n",
        "\n",
        "main()\n",
        "\n"
      ]
    }
  ]
}