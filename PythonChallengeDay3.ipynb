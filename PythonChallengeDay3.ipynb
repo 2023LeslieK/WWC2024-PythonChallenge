{
  "nbformat": 4,
  "nbformat_minor": 0,
  "metadata": {
    "colab": {
      "provenance": [],
      "authorship_tag": "ABX9TyOf8916cKSV5VADCcFgbnti",
      "include_colab_link": true
    },
    "kernelspec": {
      "name": "python3",
      "display_name": "Python 3"
    },
    "language_info": {
      "name": "python"
    }
  },
  "cells": [
    {
      "cell_type": "markdown",
      "metadata": {
        "id": "view-in-github",
        "colab_type": "text"
      },
      "source": [
        "<a href=\"https://colab.research.google.com/github/2023LeslieK/WWC2024-PythonChallenge/blob/main/PythonChallengeDay3.ipynb\" target=\"_parent\"><img src=\"https://colab.research.google.com/assets/colab-badge.svg\" alt=\"Open In Colab\"/></a>"
      ]
    },
    {
      "cell_type": "markdown",
      "source": [
        "Day 3 Challenge -\n",
        "Function to count the number of vowels in a given string."
      ],
      "metadata": {
        "id": "N8knienMO-XP"
      }
    },
    {
      "cell_type": "code",
      "source": [
        "# This function counts the number of vowels in a string\n",
        "\n",
        "# Function prompt the user to enter a string.\n",
        "# This string will be stored in a list using for loop\n",
        "\n",
        "\n",
        "stringinput = input(\"Enter string: \")\n",
        "newlist = []\n",
        "\n",
        "for letter in stringinput:\n",
        "      newlist.append(letter)\n",
        "\n",
        "# Check if character in list is a vowel\n",
        "\n",
        "vowels = ['a', 'e', 'i', 'o', 'u']\n",
        "vowellist = []\n",
        "stringlen = len(newlist)\n",
        "vowellen = len(vowels)\n",
        "\n",
        "for v in range(vowellen):\n",
        " for s in range(stringlen):\n",
        "  if vowels[v] == newlist[s]:\n",
        "   vowellist.append(newlist[s])\n",
        "\n",
        "\n",
        "vowelcount = len(vowellist)\n",
        "\n",
        "print(vowellist)\n",
        "\n",
        "print(f\"There are {vowelcount} vowels in this string.\")"
      ],
      "metadata": {
        "id": "maD5_OirPWnz"
      },
      "execution_count": null,
      "outputs": []
    },
    {
      "cell_type": "code",
      "source": [
        "\n",
        "# This function counts the number of vowels in a string  and displays the totals for each vowels\n",
        "\n",
        "# User is prompted to enter a string.\n",
        "# This string will be stored in a list using for list comprehension\n",
        "\n",
        "\n",
        "stringinput = input(\"Enter string: \")\n",
        "newlist = [x for x in stringinput]\n",
        "\n",
        "\n",
        "# Check if character in list is a vowel\n",
        "\n",
        "vowels = ['a', 'e', 'i', 'o', 'u']\n",
        "vowellist = []\n",
        "\n",
        "for v in range(len(vowels)):\n",
        " for s in range(len(newlist)):\n",
        "  if vowels[v] == newlist[s]:\n",
        "   vowellist.append(newlist[s])\n",
        "\n",
        "\n",
        "vowelcount = len(vowellist)\n",
        "\n",
        "print(vowellist)\n",
        "\n",
        "print(f\"There are {vowelcount} vowels in this string.\")"
      ],
      "metadata": {
        "id": "iZkaOVySeqWo"
      },
      "execution_count": null,
      "outputs": []
    }
  ]
}