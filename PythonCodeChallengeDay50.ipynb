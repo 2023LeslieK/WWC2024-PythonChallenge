{
  "nbformat": 4,
  "nbformat_minor": 0,
  "metadata": {
    "colab": {
      "provenance": [],
      "authorship_tag": "ABX9TyMqiWT31P3tb1COo+ES9Ke8",
      "include_colab_link": true
    },
    "kernelspec": {
      "name": "python3",
      "display_name": "Python 3"
    },
    "language_info": {
      "name": "python"
    }
  },
  "cells": [
    {
      "cell_type": "markdown",
      "metadata": {
        "id": "view-in-github",
        "colab_type": "text"
      },
      "source": [
        "<a href=\"https://colab.research.google.com/github/2023LeslieK/WWC2024-PythonChallenge/blob/main/PythonCodeChallengeDay50.ipynb\" target=\"_parent\"><img src=\"https://colab.research.google.com/assets/colab-badge.svg\" alt=\"Open In Colab\"/></a>"
      ]
    },
    {
      "cell_type": "markdown",
      "source": [
        "Program that finds the intersection and union of two sets."
      ],
      "metadata": {
        "id": "Uk2Wwr0_E2t7"
      }
    },
    {
      "cell_type": "code",
      "execution_count": null,
      "metadata": {
        "id": "p3r-AYmQEyVU",
        "colab": {
          "base_uri": "https://localhost:8080/"
        },
        "outputId": "0e6d72ef-72c1-4835-e84c-4d7aa8d84dd8"
      },
      "outputs": [
        {
          "output_type": "stream",
          "name": "stdout",
          "text": [
            "Intersection of set1 and set2 is: {8, 4}\n",
            "Union of set1 and set2 is: {1, 2, 4, 8, 10, 12, 16, 20}\n"
          ]
        }
      ],
      "source": [
        "#Program finds the intersection and union of two sets.\n",
        "\n",
        "set1 = {1, 2, 4, 8, 10}\n",
        "set2 = {4, 8, 12, 16, 20}\n",
        "\n",
        "print (f\"Intersection of set1 and set2 is: {set1 & set2}\")\n",
        "print (f\"Union of set1 and set2 is: {set1 | set2}\")"
      ]
    },
    {
      "cell_type": "code",
      "source": [
        "\n",
        "#Program finds the intersection and union of two sets.\n",
        "\n",
        "set1 = {1, 2, 4, 8, 10}\n",
        "set2 = {4, 8, 12, 16, 20}\n",
        "\n",
        "print (f\"Intersection of set1 and set2 is: {set1.intersection(set2)}\")\n",
        "print (f\"Union of set1 and set2 is: {set1.union(set2)}\")"
      ],
      "metadata": {
        "colab": {
          "base_uri": "https://localhost:8080/"
        },
        "id": "8w4kVHWfHDwM",
        "outputId": "a530f320-f7fc-4a5f-f278-0b3f0cf1829a"
      },
      "execution_count": null,
      "outputs": [
        {
          "output_type": "stream",
          "name": "stdout",
          "text": [
            "Intersection of set1 and set2 is: {8, 4}\n",
            "Union of set1 and set2 is: {1, 2, 4, 8, 10, 12, 16, 20}\n"
          ]
        }
      ]
    }
  ]
}