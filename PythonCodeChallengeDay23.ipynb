{
  "nbformat": 4,
  "nbformat_minor": 0,
  "metadata": {
    "colab": {
      "provenance": [],
      "authorship_tag": "ABX9TyOutB8fYk9uS4lBzPeJSCOJ",
      "include_colab_link": true
    },
    "kernelspec": {
      "name": "python3",
      "display_name": "Python 3"
    },
    "language_info": {
      "name": "python"
    }
  },
  "cells": [
    {
      "cell_type": "markdown",
      "metadata": {
        "id": "view-in-github",
        "colab_type": "text"
      },
      "source": [
        "<a href=\"https://colab.research.google.com/github/2023LeslieK/WWC2024-PythonChallenge/blob/main/PythonCodeChallengeDay23.ipynb\" target=\"_parent\"><img src=\"https://colab.research.google.com/assets/colab-badge.svg\" alt=\"Open In Colab\"/></a>"
      ]
    },
    {
      "cell_type": "markdown",
      "source": [
        "Program checks if a key exists in a dictionary"
      ],
      "metadata": {
        "id": "HcxyhKRKumov"
      }
    },
    {
      "cell_type": "code",
      "execution_count": null,
      "metadata": {
        "id": "PNrws_whuKYF"
      },
      "outputs": [],
      "source": [
        "# Program checks if a key exists in a dictionary using in method\n",
        "\n",
        "my_dict = {'1': 'Purple', '2': 'Green', '3': 'Orange', '4': 'Red', '5': 'Yellow'}\n",
        "my_key = input(\"Enter value of key: \").strip()\n",
        "\n",
        "if my_key in my_dict:\n",
        "   print(\"Exists\")\n",
        "else:\n",
        "   print(\"Does not exist\")\n",
        "\n"
      ]
    },
    {
      "cell_type": "code",
      "source": [
        "# Program checks if a key exists in a dictionary using dict.get() method\n",
        "\n",
        "my_dict = {'1': 'Purple', '2': 'Green', '3': 'Orange', '4': 'Red', '5': 'Yellow'}\n",
        "my_key = input(\"Enter value of key: \").strip()\n",
        "\n",
        "if my_dict.get(my_key) is not None:\n",
        "   print(\"Exists\")\n",
        "else:\n",
        "   print(\"Does not exist\")"
      ],
      "metadata": {
        "id": "mSKGAa6j8W-Y"
      },
      "execution_count": null,
      "outputs": []
    },
    {
      "cell_type": "code",
      "source": [
        "# Program checks if a key exists in a dictionary using exception handling\n",
        "\n",
        "my_dict = {'1': 'Purple', '2': 'Green', '3': 'Orange', '4': 'Red', '5': 'Yellow'}\n",
        "my_key = input(\"Enter value of key: \").strip()\n",
        "\n",
        "try:\n",
        "  my_dict[my_key]\n",
        "  print(\"Exists\")\n",
        "except:\n",
        "   print(\"Does not exist\")"
      ],
      "metadata": {
        "id": "XzALGIjX99Du"
      },
      "execution_count": null,
      "outputs": []
    }
  ]
}