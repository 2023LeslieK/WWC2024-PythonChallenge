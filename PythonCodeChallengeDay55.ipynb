{
  "nbformat": 4,
  "nbformat_minor": 0,
  "metadata": {
    "colab": {
      "provenance": [],
      "authorship_tag": "ABX9TyNjCgIEekAfqk1oKIkoN6ya",
      "include_colab_link": true
    },
    "kernelspec": {
      "name": "python3",
      "display_name": "Python 3"
    },
    "language_info": {
      "name": "python"
    }
  },
  "cells": [
    {
      "cell_type": "markdown",
      "metadata": {
        "id": "view-in-github",
        "colab_type": "text"
      },
      "source": [
        "<a href=\"https://colab.research.google.com/github/2023LeslieK/WWC2024-PythonChallenge/blob/main/PythonCodeChallengeDay55.ipynb\" target=\"_parent\"><img src=\"https://colab.research.google.com/assets/colab-badge.svg\" alt=\"Open In Colab\"/></a>"
      ]
    },
    {
      "cell_type": "markdown",
      "source": [
        "Function takes a string and returns the reverse of each word."
      ],
      "metadata": {
        "id": "jyX9AfW6ffjk"
      }
    },
    {
      "cell_type": "code",
      "source": [
        "# Function takes a string and returns the reverse of each word.\n",
        "\n",
        "# Main function\n",
        "def main():\n",
        "   sentence = get_sentence()\n",
        "   reverse_words(sentence)\n",
        "\n",
        "# Function to prompt user for sentence\n",
        "def get_sentence():\n",
        "    return input(\"Enter sentence: \")\n",
        "\n",
        "def reverse_words(sentence):\n",
        "    words = sentence.split(\" \")\n",
        "    new_string = \" \"\n",
        "\n",
        "# Reversing each word and creating a new list of words\n",
        "# Using for loop technique and slicing technique\n",
        "\n",
        "    for word in words:\n",
        "       rev_word = word[::-1]\n",
        "\n",
        "       # Joining the new list of words to new string\n",
        "       new_string = new_string + \" \" + rev_word\n",
        "\n",
        "    print(new_string)\n",
        "\n",
        "main()"
      ],
      "metadata": {
        "id": "uJgEo67nhGOg"
      },
      "execution_count": null,
      "outputs": []
    },
    {
      "cell_type": "code",
      "source": [
        "\n",
        "# Function takes a string and returns the reverse of each word.\n",
        "\n",
        "# Main function\n",
        "def main():\n",
        "   sentence = get_sentence()\n",
        "   reverse_words(sentence)\n",
        "\n",
        "# Function to prompt user for sentence\n",
        "def get_sentence():\n",
        "    return input(\"Enter sentence: \")\n",
        "\n",
        "def reverse_words(sentence):\n",
        "    words = sentence.split(\" \")\n",
        "\n",
        "\n",
        "    # Reversing each word and creating a new list of words\n",
        "    # Using list comprehension technique\n",
        "\n",
        "    rev_words = [word[::-1] for word in words]\n",
        "\n",
        "    # Joining the new list of words to new string\n",
        "    new_string = \" \".join(rev_words)\n",
        "    print(new_string)\n",
        "\n",
        "\n",
        "main()"
      ],
      "metadata": {
        "id": "Zx3R8wJQwSPy"
      },
      "execution_count": null,
      "outputs": []
    }
  ]
}