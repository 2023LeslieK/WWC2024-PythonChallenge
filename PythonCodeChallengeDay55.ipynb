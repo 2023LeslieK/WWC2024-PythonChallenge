{
  "nbformat": 4,
  "nbformat_minor": 0,
  "metadata": {
    "colab": {
      "provenance": [],
      "authorship_tag": "ABX9TyPinn/051ydaLZw3xNr6pNs",
      "include_colab_link": true
    },
    "kernelspec": {
      "name": "python3",
      "display_name": "Python 3"
    },
    "language_info": {
      "name": "python"
    }
  },
  "cells": [
    {
      "cell_type": "markdown",
      "metadata": {
        "id": "view-in-github",
        "colab_type": "text"
      },
      "source": [
        "<a href=\"https://colab.research.google.com/github/2023LeslieK/WWC2024-PythonChallenge/blob/main/PythonCodeChallengeDay55.ipynb\" target=\"_parent\"><img src=\"https://colab.research.google.com/assets/colab-badge.svg\" alt=\"Open In Colab\"/></a>"
      ]
    },
    {
      "cell_type": "markdown",
      "source": [
        "Function takes a string and returns the reverse of each word."
      ],
      "metadata": {
        "id": "jyX9AfW6ffjk"
      }
    },
    {
      "cell_type": "code",
      "execution_count": 2,
      "metadata": {
        "colab": {
          "base_uri": "https://localhost:8080/"
        },
        "id": "p1IY3fO3fNSz",
        "outputId": "049b24e4-0a8d-490b-bd01-80ddfca41fcb"
      },
      "outputs": [
        {
          "output_type": "stream",
          "name": "stdout",
          "text": [
            "!sklof ,parw a s'tahT\n"
          ]
        }
      ],
      "source": [
        "# Function takes a string and returns the reverse of each word.\n",
        "\n",
        "input_string = \"That's a wrap, folks!\"\n",
        "\n",
        "# Reverse the entire string using slicing technique\n",
        "print(input_string[::-1])"
      ]
    },
    {
      "cell_type": "code",
      "source": [
        "\n",
        "# Function takes a string and returns the reverse of each word.\n",
        "\n",
        "input_string = \"That's a wrap, folks!\"\n",
        "new_string = \" \"\n",
        "\n",
        "words = input_string.split(\" \")\n",
        "\n",
        "# Reversing each word and creating a new list of words\n",
        "# Using for loop technique and slicing technique\n",
        "\n",
        "for word in words:\n",
        "   rev_word = word[::-1]\n",
        "\n",
        "   # Joining the new list of words to new string\n",
        "   new_string = new_string + \" \" + rev_word\n",
        "\n",
        "print(new_string)"
      ],
      "metadata": {
        "colab": {
          "base_uri": "https://localhost:8080/"
        },
        "id": "uJgEo67nhGOg",
        "outputId": "8ad1b302-0873-470b-d3be-107fb1c7cb0d"
      },
      "execution_count": 3,
      "outputs": [
        {
          "output_type": "stream",
          "name": "stdout",
          "text": [
            "  s'tahT a ,parw !sklof\n"
          ]
        }
      ]
    },
    {
      "cell_type": "code",
      "source": [],
      "metadata": {
        "id": "HEqGfYR2wQQi"
      },
      "execution_count": 3,
      "outputs": []
    },
    {
      "cell_type": "code",
      "source": [
        "\n",
        "# Function takes a string and returns the reverse of each word.\n",
        "\n",
        "input_string = \"That's a wrap, folks!\"\n",
        "words = input_string.split(\" \")\n",
        "\n",
        "# Reversing each word and creating a new list of words\n",
        "# Using list comprehension technique\n",
        "\n",
        "rev_words = [word[::-1] for word in words]\n",
        "\n",
        "# Joining the new list of words to new string\n",
        "new_string = \" \".join(rev_words)\n",
        "print(new_string)"
      ],
      "metadata": {
        "id": "Zx3R8wJQwSPy"
      },
      "execution_count": null,
      "outputs": []
    }
  ]
}