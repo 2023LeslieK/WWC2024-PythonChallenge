{
  "nbformat": 4,
  "nbformat_minor": 0,
  "metadata": {
    "colab": {
      "provenance": [],
      "authorship_tag": "ABX9TyNNAhZZ6Vb5WtwCukfvga05",
      "include_colab_link": true
    },
    "kernelspec": {
      "name": "python3",
      "display_name": "Python 3"
    },
    "language_info": {
      "name": "python"
    }
  },
  "cells": [
    {
      "cell_type": "markdown",
      "metadata": {
        "id": "view-in-github",
        "colab_type": "text"
      },
      "source": [
        "<a href=\"https://colab.research.google.com/github/2023LeslieK/WWC2024-PythonChallenge/blob/main/PythonCodeChallengeDay24.ipynb\" target=\"_parent\"><img src=\"https://colab.research.google.com/assets/colab-badge.svg\" alt=\"Open In Colab\"/></a>"
      ]
    },
    {
      "cell_type": "markdown",
      "source": [
        "Program to remove vowels from a given string."
      ],
      "metadata": {
        "id": "zVew8PzeTnMW"
      }
    },
    {
      "cell_type": "code",
      "execution_count": null,
      "metadata": {
        "colab": {
          "base_uri": "https://localhost:8080/"
        },
        "id": "KDije4eETfdr",
        "outputId": "ffb85eef-2dce-40de-f78a-559000c75aac"
      },
      "outputs": [
        {
          "output_type": "stream",
          "name": "stdout",
          "text": [
            "Enter a string: N0ns3n\n",
            "No vowels found\n"
          ]
        }
      ],
      "source": [
        "# Program to remove vowels from a given string.\n",
        "import re\n",
        "\n",
        "def main():\n",
        "   input_string = get_input()\n",
        "   print(remove_vowels(input_string))\n",
        "\n",
        "def get_input():\n",
        "    return input(\"Enter a string: \")\n",
        "\n",
        "def remove_vowels(input_str):\n",
        "    count = 0\n",
        "    for char in input_str:\n",
        "      if re.match(r'[aeiouAEIOU]', char):\n",
        "         input_str = input_str.replace(char, \"\")\n",
        "         count = count + 1\n",
        "\n",
        "    if count > 1:\n",
        "       return input_str\n",
        "    else:\n",
        "       return (\"No vowels found\")\n",
        "\n",
        "main()"
      ]
    }
  ]
}