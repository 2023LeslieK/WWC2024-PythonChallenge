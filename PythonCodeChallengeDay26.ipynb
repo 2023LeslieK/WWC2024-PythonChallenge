{
  "nbformat": 4,
  "nbformat_minor": 0,
  "metadata": {
    "colab": {
      "provenance": [],
      "authorship_tag": "ABX9TyNbDBvmZn9oZZyXQ/rkSoEY",
      "include_colab_link": true
    },
    "kernelspec": {
      "name": "python3",
      "display_name": "Python 3"
    },
    "language_info": {
      "name": "python"
    }
  },
  "cells": [
    {
      "cell_type": "markdown",
      "metadata": {
        "id": "view-in-github",
        "colab_type": "text"
      },
      "source": [
        "<a href=\"https://colab.research.google.com/github/2023LeslieK/WWC2024-PythonChallenge/blob/main/PythonCodeChallengeDay26.ipynb\" target=\"_parent\"><img src=\"https://colab.research.google.com/assets/colab-badge.svg\" alt=\"Open In Colab\"/></a>"
      ]
    },
    {
      "cell_type": "markdown",
      "source": [
        "Use a lambda function to square each element of a list"
      ],
      "metadata": {
        "id": "ekGZefIfZDFu"
      }
    },
    {
      "cell_type": "code",
      "source": [
        "# Lambda function to square each element of a list\n",
        "\n",
        "def main():\n",
        "  while(True):\n",
        "     try:\n",
        "       input_list = input(\"Enter a list of numbers separated by commas: \").strip()\n",
        "       #newList = ' '.join(input_list).split()\n",
        "       newList = [float(i) for i in input_list.split(\",\")]\n",
        "       break\n",
        "     except ValueError:\n",
        "       print(\"Please enter only numeric values.\")\n",
        "       continue\n",
        "  print(list(map(lambda element:pow(element,2), newList)))\n",
        "\n",
        "\n",
        "main()"
      ],
      "metadata": {
        "id": "64aW9lnDZB-P"
      },
      "execution_count": null,
      "outputs": []
    },
    {
      "cell_type": "code",
      "execution_count": null,
      "metadata": {
        "id": "oiDXAQGkY5ao"
      },
      "outputs": [],
      "source": []
    }
  ]
}