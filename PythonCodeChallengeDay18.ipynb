{
  "nbformat": 4,
  "nbformat_minor": 0,
  "metadata": {
    "colab": {
      "provenance": [],
      "authorship_tag": "ABX9TyPvUKUoj3I2adRFMFp1xjUf",
      "include_colab_link": true
    },
    "kernelspec": {
      "name": "python3",
      "display_name": "Python 3"
    },
    "language_info": {
      "name": "python"
    }
  },
  "cells": [
    {
      "cell_type": "markdown",
      "metadata": {
        "id": "view-in-github",
        "colab_type": "text"
      },
      "source": [
        "<a href=\"https://colab.research.google.com/github/2023LeslieK/WWC2024-PythonChallenge/blob/main/PythonCodeChallengeDay18.ipynb\" target=\"_parent\"><img src=\"https://colab.research.google.com/assets/colab-badge.svg\" alt=\"Open In Colab\"/></a>"
      ]
    },
    {
      "cell_type": "markdown",
      "source": [
        "Program to find the largest of 3 numbers"
      ],
      "metadata": {
        "id": "xOHK8qszmspJ"
      }
    },
    {
      "cell_type": "code",
      "source": [
        "# Program to find the largest of three numbers entered by user\n",
        "\n",
        "# Main function\n",
        "def main():\n",
        "    get_numbers()\n",
        "\n",
        "\n",
        "def get_numbers():\n",
        "      count = 0\n",
        "      num_list = input(\"Enter 3 numbers separated by commas. Then press Enter: \").replace(\",\", \" \")\n",
        "      numbers = num_list.split()\n",
        "      if len(numbers) != 3:\n",
        "         print(\"Invalid entry. Enter 3 numbers\")\n",
        "      else:\n",
        "         for x in range(len(numbers)):\n",
        "           if numbers[x].isdigit() != True:\n",
        "              count = count + 1\n",
        "         if count == 0:\n",
        "            print(f\"Maximum number in list {numbers} is {max(numbers)}\")\n",
        "         else:\n",
        "            print(\"Error. List has non-numerical elements.\")\n",
        "\n",
        "main()"
      ],
      "metadata": {
        "id": "XqHU1x6Xmy-n"
      },
      "execution_count": null,
      "outputs": []
    }
  ]
}