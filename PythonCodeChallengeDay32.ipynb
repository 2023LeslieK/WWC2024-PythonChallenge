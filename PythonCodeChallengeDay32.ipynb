{
  "nbformat": 4,
  "nbformat_minor": 0,
  "metadata": {
    "colab": {
      "provenance": [],
      "authorship_tag": "ABX9TyO5QX7OKCplQVxz7niU3C7F",
      "include_colab_link": true
    },
    "kernelspec": {
      "name": "python3",
      "display_name": "Python 3"
    },
    "language_info": {
      "name": "python"
    }
  },
  "cells": [
    {
      "cell_type": "markdown",
      "metadata": {
        "id": "view-in-github",
        "colab_type": "text"
      },
      "source": [
        "<a href=\"https://colab.research.google.com/github/2023LeslieK/WWC2024-PythonChallenge/blob/main/PythonCodeChallengeDay32.ipynb\" target=\"_parent\"><img src=\"https://colab.research.google.com/assets/colab-badge.svg\" alt=\"Open In Colab\"/></a>"
      ]
    },
    {
      "cell_type": "markdown",
      "source": [
        "Function that calculates the average of a list of numbers"
      ],
      "metadata": {
        "id": "UwPCFm31JWyM"
      }
    },
    {
      "cell_type": "code",
      "execution_count": null,
      "metadata": {
        "id": "h607IvXrJVn8"
      },
      "outputs": [],
      "source": [
        "# Function takes a list of numbers and returns the average\n",
        "\n",
        "def main():\n",
        "    # Prompt user to enter a list of numbers.\n",
        "    num_list = get_numbers()\n",
        "\n",
        "    # If list contains invalid entries, print error. Else display the average.\n",
        "    if num_list != 0:\n",
        "       print(f\"The average is {avg_numbers(num_list)}\")\n",
        "    else:\n",
        "       print(\"Error. This list contains invalid entries.\")\n",
        "\n",
        "# Function to get list of numbers from user\n",
        "def get_numbers():\n",
        "    get_list = input(\"Enter a list of numbers separated by commas: \").strip().split(\",\") # Convert string to list\n",
        "    print(f\"This is the list that was entered - {get_list}\")\n",
        "\n",
        "    # For each entry in the list, check that the entry is valid, ie. that it is a number\n",
        "    # If all entries are numbers, return the list, else return 0\n",
        "    count = 0\n",
        "    for i in range(len(get_list)):\n",
        "      try:\n",
        "        float(get_list[i])\n",
        "      except ValueError:\n",
        "        count = count + 1\n",
        "    if count > 0:\n",
        "       return 0\n",
        "    else:\n",
        "       return get_list\n",
        "\n",
        "# Function to find the average of the numbers in the list\n",
        "def avg_numbers(num_list):\n",
        "   sum = 0\n",
        "   listcount = len(num_list)\n",
        "   for x in range(listcount):\n",
        "       sum = sum + float(num_list[x])\n",
        "   return round(sum/listcount, 2)\n",
        "\n",
        "\n",
        "main()"
      ]
    }
  ]
}