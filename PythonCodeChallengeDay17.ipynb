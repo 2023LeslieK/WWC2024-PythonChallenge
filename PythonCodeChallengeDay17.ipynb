{
  "nbformat": 4,
  "nbformat_minor": 0,
  "metadata": {
    "colab": {
      "provenance": [],
      "authorship_tag": "ABX9TyNrDKmNYc3gxjhlONcTsma3",
      "include_colab_link": true
    },
    "kernelspec": {
      "name": "python3",
      "display_name": "Python 3"
    },
    "language_info": {
      "name": "python"
    }
  },
  "cells": [
    {
      "cell_type": "markdown",
      "metadata": {
        "id": "view-in-github",
        "colab_type": "text"
      },
      "source": [
        "<a href=\"https://colab.research.google.com/github/2023LeslieK/WWC2024-PythonChallenge/blob/main/PythonCodeChallengeDay17.ipynb\" target=\"_parent\"><img src=\"https://colab.research.google.com/assets/colab-badge.svg\" alt=\"Open In Colab\"/></a>"
      ]
    },
    {
      "cell_type": "markdown",
      "source": [
        "Program capitalizes first letter of each word in a sentence."
      ],
      "metadata": {
        "id": "7YKVodzlPJe8"
      }
    },
    {
      "cell_type": "code",
      "source": [
        "# Program capitalizes the first letter of each word in a sentence entered by the user\n",
        "\n",
        "# Main function\n",
        "def main():\n",
        "   sentence = get_sentence()\n",
        "   capitalize(sentence)\n",
        "\n",
        "# Function to prompt user for sentence\n",
        "def get_sentence():\n",
        "    return input(\"Enter sentence: \").split() # Convert string to list for easier manipulation\n",
        "\n",
        "# Function to capitalize first letter of word in sentence.\n",
        "def capitalize(sen):\n",
        "    new_sentence=[] # Create list to hold new sentence\n",
        "\n",
        "    # For each word in sentence, if first letter is in lowercase, change to uppercase and add to new sentence list\n",
        "    # Otherwise add word as is to new sentence list\n",
        "    for word in sen:\n",
        "         if word[0].islower():\n",
        "           new_word = word.replace(word[0], word[0].upper())\n",
        "         else:\n",
        "           new_word = word\n",
        "         new_sentence.append(new_word)\n",
        "    print(' '.join(new_sentence))  # Convert list to string\n",
        "\n",
        "\n",
        "main()"
      ],
      "metadata": {
        "id": "X_0-1IGUPWp3"
      },
      "execution_count": null,
      "outputs": []
    },
    {
      "cell_type": "code",
      "source": [
        "\n",
        "# Program capitalizes the first letter of each word in a sentence entered by the user\n",
        "\n",
        "# Main function\n",
        "def main():\n",
        "   sentence = get_sentence()\n",
        "   capitalize(sentence)\n",
        "\n",
        "# Function to prompt user for sentence\n",
        "def get_sentence():\n",
        "    return input(\"Enter sentence: \")\n",
        "\n",
        "# Function to capitalize first letter of word in sentence using title() function.\n",
        "def capitalize(sen):\n",
        "    print(sen.title())\n",
        "\n",
        "\n",
        "main()"
      ],
      "metadata": {
        "id": "E-DVa5FjmGh2"
      },
      "execution_count": null,
      "outputs": []
    },
    {
      "cell_type": "code",
      "source": [
        "\n",
        "# Program capitalizes the first letter of each word in a sentence entered by the user\n",
        "\n",
        "# Main function\n",
        "def main():\n",
        "   sentence = get_sentence()\n",
        "   capitalize(sentence)\n",
        "\n",
        "# Function to prompt user for sentence\n",
        "def get_sentence():\n",
        "    return input(\"Enter sentence: \").split() # Convert string to list for easier manipulation\n",
        "\n",
        "# Function to capitalize first letter of word in sentence.\n",
        "def capitalize(sen):\n",
        "    new_sentence=[] # Create list to hold new sentence\n",
        "\n",
        "    # For each word in sentence, if first letter is in lowercase, change to uppercase and add to new sentence list\n",
        "    # Otherwise add word as is to new sentence list\n",
        "    # Using capitalize() function\n",
        "    for word in sen:\n",
        "         if word[0].islower():\n",
        "           new_word = word.capitalize()\n",
        "         else:\n",
        "           new_word = word\n",
        "         new_sentence.append(new_word)\n",
        "    print(' '.join(new_sentence))  # Convert list to string\n",
        "\n",
        "\n",
        "main()"
      ],
      "metadata": {
        "id": "4Rqy6TWsoIBe"
      },
      "execution_count": null,
      "outputs": []
    }
  ]
}