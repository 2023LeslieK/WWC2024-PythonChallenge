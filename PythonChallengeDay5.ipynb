{
  "nbformat": 4,
  "nbformat_minor": 0,
  "metadata": {
    "colab": {
      "provenance": [],
      "authorship_tag": "ABX9TyNEjmwpohQb36qwWp1Q1jYs",
      "include_colab_link": true
    },
    "kernelspec": {
      "name": "python3",
      "display_name": "Python 3"
    },
    "language_info": {
      "name": "python"
    }
  },
  "cells": [
    {
      "cell_type": "markdown",
      "metadata": {
        "id": "view-in-github",
        "colab_type": "text"
      },
      "source": [
        "<a href=\"https://colab.research.google.com/github/2023LeslieK/WWC2024-PythonChallenge/blob/main/PythonChallengeDay5.ipynb\" target=\"_parent\"><img src=\"https://colab.research.google.com/assets/colab-badge.svg\" alt=\"Open In Colab\"/></a>"
      ]
    },
    {
      "cell_type": "markdown",
      "source": [
        "Program to find maximum and minimum values in a list"
      ],
      "metadata": {
        "id": "jrNp1Xsztkb8"
      }
    },
    {
      "cell_type": "code",
      "source": [
        "# User is prompted to enter a list of items. Numbers only.\n",
        "\n",
        "userinput = (input(\"Enter a list of numbers separated by commas. Press enter when done: \")).replace(\" \", \"\").split(\",\")\n",
        "print(f\"You entered: {userinput}\")\n",
        "\n",
        "# Check if list only contains numbers and add number to new list checklist.\n",
        "checklist=[]\n",
        "count = 0\n",
        "\n",
        "for x in userinput:\n",
        "   if not x.lstrip('-').isdigit(): # To include negative numbers\n",
        "     count = count + 1\n",
        "   else:\n",
        "     checklist.append(float(x))\n",
        "\n",
        "if count > 0:\n",
        "  print(\"Error. Unable to display maximum and minimum as there is an invalid entry in the list.\")\n",
        "else:\n",
        "  print (f\" Maximum value in list is {(max(checklist))} and minimum value is {(min(checklist))} \") #Display maximum and minimum values in list"
      ],
      "metadata": {
        "id": "pTc4f8V2m4eB"
      },
      "execution_count": null,
      "outputs": []
    },
    {
      "cell_type": "code",
      "source": [],
      "metadata": {
        "id": "pstpmBYgARbW"
      },
      "execution_count": null,
      "outputs": []
    }
  ]
}