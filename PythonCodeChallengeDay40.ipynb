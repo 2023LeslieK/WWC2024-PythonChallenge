{
  "nbformat": 4,
  "nbformat_minor": 0,
  "metadata": {
    "colab": {
      "provenance": [],
      "authorship_tag": "ABX9TyPlTZE82zp4BFSbJCPqftru",
      "include_colab_link": true
    },
    "kernelspec": {
      "name": "python3",
      "display_name": "Python 3"
    },
    "language_info": {
      "name": "python"
    }
  },
  "cells": [
    {
      "cell_type": "markdown",
      "metadata": {
        "id": "view-in-github",
        "colab_type": "text"
      },
      "source": [
        "<a href=\"https://colab.research.google.com/github/2023LeslieK/WWC2024-PythonChallenge/blob/main/PythonCodeChallengeDay40.ipynb\" target=\"_parent\"><img src=\"https://colab.research.google.com/assets/colab-badge.svg\" alt=\"Open In Colab\"/></a>"
      ]
    },
    {
      "cell_type": "markdown",
      "source": [
        "Function to find the largest common divisor of two numbers using a function."
      ],
      "metadata": {
        "id": "Pm13m2BGCIX2"
      }
    },
    {
      "cell_type": "code",
      "execution_count": null,
      "metadata": {
        "id": "ZykaoFAYCBFn"
      },
      "outputs": [],
      "source": [
        "#Function finds the largest common divisor of two numbers using a function.\n",
        "\n",
        "def main():\n",
        "  num1 = int(input(\"First number: \"))\n",
        "  num2 = int(input(\"Second number: \"))\n",
        "\n",
        "  print(f\"Largest common divisor of {num1} and {num2} is {find_lcd(num1, num2)}\")\n",
        "\n",
        "\n",
        "def find_lcd(num1, num2):\n",
        "  if num1 < num2:\n",
        "    len = num1\n",
        "  else:\n",
        "    len = num2\n",
        "\n",
        "  i = 1\n",
        "  while i <= len:\n",
        "    if(num1 % i == 0) & (num2 % i == 0):\n",
        "      lcd = i\n",
        "    i = i + 1\n",
        "  return lcd\n",
        "\n",
        "\n",
        "main()"
      ]
    },
    {
      "cell_type": "code",
      "source": [
        "#Function finds the largest common divisor of two numbers using Python's math function.\n",
        "\n",
        "import math\n",
        "\n",
        "def main():\n",
        "  num1 = int(input(\"First number: \"))\n",
        "  num2 = int(input(\"Second number: \"))\n",
        "\n",
        "  print(f\"Largest common divisor of {num1} and {num2} is {find_lcd(num1, num2)}\")\n",
        "\n",
        "\n",
        "def find_lcd(num1, num2):\n",
        "   return math.gcd(num1, num2)\n",
        "\n",
        "\n",
        "main()"
      ],
      "metadata": {
        "id": "sw69MuK68gix"
      },
      "execution_count": null,
      "outputs": []
    }
  ]
}