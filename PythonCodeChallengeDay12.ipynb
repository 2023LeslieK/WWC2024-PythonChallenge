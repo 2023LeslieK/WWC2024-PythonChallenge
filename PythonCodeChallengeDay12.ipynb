{
  "nbformat": 4,
  "nbformat_minor": 0,
  "metadata": {
    "colab": {
      "provenance": [],
      "authorship_tag": "ABX9TyNpGAcU7inc3V5xpuytjebK",
      "include_colab_link": true
    },
    "kernelspec": {
      "name": "python3",
      "display_name": "Python 3"
    },
    "language_info": {
      "name": "python"
    }
  },
  "cells": [
    {
      "cell_type": "markdown",
      "metadata": {
        "id": "view-in-github",
        "colab_type": "text"
      },
      "source": [
        "<a href=\"https://colab.research.google.com/github/2023LeslieK/WWC2024-PythonChallenge/blob/main/PythonCodeChallengeDay12.ipynb\" target=\"_parent\"><img src=\"https://colab.research.google.com/assets/colab-badge.svg\" alt=\"Open In Colab\"/></a>"
      ]
    },
    {
      "cell_type": "markdown",
      "source": [
        "Program to reverse a string"
      ],
      "metadata": {
        "id": "t6ZLNe4tBKao"
      }
    },
    {
      "cell_type": "code",
      "source": [
        "# Program reverses a string input by user\n",
        "\n",
        "def main():\n",
        "  input_string = input(\"Enter a string and then press Enter: \")\n",
        "  reverse_string(input_string)\n",
        "\n",
        "\n",
        "def reverse_string(string): #Reverses string using for loop\n",
        "\n",
        "  new_list = []\n",
        "  rev_list = []\n",
        "\n",
        "  for i in string:\n",
        "     new_list.append(i)\n",
        "\n",
        "  r = len(new_list) - 1\n",
        "  while r >= 0:\n",
        "    rev_list.append(new_list[r])\n",
        "    r = r - 1\n",
        "\n",
        "  rev_string = ''.join(map(str,rev_list))\n",
        "  print(rev_string)\n",
        "\n",
        "\n",
        "main()"
      ],
      "metadata": {
        "id": "T5BdcrJsBQ5x"
      },
      "execution_count": null,
      "outputs": []
    },
    {
      "cell_type": "code",
      "source": [
        "# Program reverses a string input by user\n",
        "\n",
        "def main():\n",
        "  input_string = input(\"Enter a string and then press Enter: \")\n",
        "  print(reverse_string(input_string))\n",
        "\n",
        "\n",
        "def reverse_string(string): # Reverses string using slicing\n",
        "\n",
        "# Syntax: slice(start, stop, step)\n",
        "# Parameters: start: Starting index where the slicing of object starts. stop: Ending index where the slicing of object stops.\n",
        "# step: It is an optional argument that determines the increment between each index for slicing.\n",
        "# Return Type: Returns a sliced object containing elements in the given range only.\n",
        "\n",
        "  return string[::-1]\n",
        "\n",
        "\n",
        "main()"
      ],
      "metadata": {
        "id": "Jpvd5atji6Af"
      },
      "execution_count": null,
      "outputs": []
    },
    {
      "cell_type": "code",
      "source": [
        "# Program reverses a string input by user\n",
        "\n",
        "def main():\n",
        "  input_string = input(\"Enter a string and then press Enter: \")\n",
        "  print(input_string[::-1]) #Reverses string using slicing\n",
        "\n",
        "main()"
      ],
      "metadata": {
        "id": "BHscUHVzlavl"
      },
      "execution_count": null,
      "outputs": []
    },
    {
      "cell_type": "code",
      "source": [
        "# Program reverses a string input by user\n",
        "\n",
        "print(input(\"Enter a string and then press Enter: \")[::-1])\n"
      ],
      "metadata": {
        "id": "CX-GNfy1lz1k"
      },
      "execution_count": null,
      "outputs": []
    }
  ]
}