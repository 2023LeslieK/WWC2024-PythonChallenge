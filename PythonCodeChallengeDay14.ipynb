{
  "nbformat": 4,
  "nbformat_minor": 0,
  "metadata": {
    "colab": {
      "provenance": [],
      "authorship_tag": "ABX9TyNlDNPYfQa6webgO22ic0AB",
      "include_colab_link": true
    },
    "kernelspec": {
      "name": "python3",
      "display_name": "Python 3"
    },
    "language_info": {
      "name": "python"
    }
  },
  "cells": [
    {
      "cell_type": "markdown",
      "metadata": {
        "id": "view-in-github",
        "colab_type": "text"
      },
      "source": [
        "<a href=\"https://colab.research.google.com/github/2023LeslieK/WWC2024-PythonChallenge/blob/main/PythonCodeChallengeDay14.ipynb\" target=\"_parent\"><img src=\"https://colab.research.google.com/assets/colab-badge.svg\" alt=\"Open In Colab\"/></a>"
      ]
    },
    {
      "cell_type": "markdown",
      "source": [
        "Print first n numbers of Fibonacci sequence"
      ],
      "metadata": {
        "id": "Ei9BD0pI7N8f"
      }
    },
    {
      "cell_type": "code",
      "source": [
        "# Program to print first n numbers of Fibonacci sequence.\n",
        "# by getting n from user\n",
        "\n",
        "def main():\n",
        "  n = get_number()\n",
        "  print_fibonacci(n)\n",
        "\n",
        "def get_number():\n",
        " while True:\n",
        "      try:\n",
        "         return int(input(\"How many numbers of Fibonacci sequence should be printed?: \"))\n",
        "      except ValueError:\n",
        "         print(\"Oops!  That was not a valid number.  Try again...\")\n",
        "\n",
        "\n",
        "def print_fibonacci(num):\n",
        "\n",
        "  f_list = [0, 1]\n",
        "  i = 2\n",
        "  while i < num:\n",
        "      new_num = f_list[i-2] + f_list[i-1]\n",
        "      f_list.append(new_num)\n",
        "      i = i + 1\n",
        "  print(f_list)\n",
        "\n",
        "\n",
        "main()"
      ],
      "metadata": {
        "id": "V25WUU9KSSrn"
      },
      "execution_count": null,
      "outputs": []
    },
    {
      "cell_type": "code",
      "source": [
        "# Program to print first n numbers of Fibonacci sequence.\n",
        "# by getting n from user\n",
        "\n",
        "def main():\n",
        "  n = get_number()\n",
        "  print_fibonacci(n)\n",
        "\n",
        "def get_number():\n",
        " while True:\n",
        "      try:\n",
        "         return int(input(\"How many numbers of Fibonacci sequence should be printed?: \"))\n",
        "      except ValueError:\n",
        "         print(\"Oops!  That was not a valid number.  Try again...\")\n",
        "\n",
        "\n",
        "def print_fibonacci(num):\n",
        "\n",
        "  f_list = []\n",
        "\n",
        "  if num <= 0 or num > 100:\n",
        "    print(\"Sequence cannot be printed.\")\n",
        "  elif 0 < num <= 2:\n",
        "    for x in range(num):\n",
        "      f_list.append(x)\n",
        "  else:\n",
        "    f_list = [0, 1]\n",
        "    i = len(f_list)\n",
        "    while i < num:\n",
        "      new_num = f_list[i-2] + f_list[i-1]\n",
        "      f_list.append(new_num)\n",
        "      i = i + 1\n",
        "  print(f_list)\n",
        "\n",
        "\n",
        "main()"
      ],
      "metadata": {
        "id": "s8Icjam89HSR"
      },
      "execution_count": null,
      "outputs": []
    },
    {
      "cell_type": "code",
      "source": [
        "# Program to print first n numbers of Fibonacci sequence.\n",
        "# by random generation\n",
        "import random\n",
        "\n",
        "def main():\n",
        "  n = random.randint(1, 100) # generate a random number between 1 and 100 inclusive\n",
        "  print(f\"The first {n} numbers of the Fibonacci sequence will be printed.\")\n",
        "  print_fibonacci(n)\n",
        "\n",
        "def print_fibonacci(num):\n",
        "\n",
        "  f_list = []\n",
        "\n",
        "  if 0 < num <= 2:\n",
        "    for x in range(num):\n",
        "      f_list.append(x)\n",
        "  else:\n",
        "    f_list = [0, 1]\n",
        "    i = len(f_list)\n",
        "    while i < num:\n",
        "      new_num = f_list[i-2] + f_list[i-1]\n",
        "      f_list.append(new_num)\n",
        "      i = i + 1\n",
        "  print(f_list)\n",
        "\n",
        "\n",
        "main()"
      ],
      "metadata": {
        "id": "LFG46xcHpjRd"
      },
      "execution_count": null,
      "outputs": []
    }
  ]
}