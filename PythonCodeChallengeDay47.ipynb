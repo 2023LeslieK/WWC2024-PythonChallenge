{
  "nbformat": 4,
  "nbformat_minor": 0,
  "metadata": {
    "colab": {
      "provenance": [],
      "authorship_tag": "ABX9TyPYQdfLIn8nH3lIIPSL/wnU",
      "include_colab_link": true
    },
    "kernelspec": {
      "name": "python3",
      "display_name": "Python 3"
    },
    "language_info": {
      "name": "python"
    }
  },
  "cells": [
    {
      "cell_type": "markdown",
      "metadata": {
        "id": "view-in-github",
        "colab_type": "text"
      },
      "source": [
        "<a href=\"https://colab.research.google.com/github/2023LeslieK/WWC2024-PythonChallenge/blob/main/PythonCodeChallengeDay47.ipynb\" target=\"_parent\"><img src=\"https://colab.research.google.com/assets/colab-badge.svg\" alt=\"Open In Colab\"/></a>"
      ]
    },
    {
      "cell_type": "markdown",
      "source": [
        "Program that imports the math module and uses its functions"
      ],
      "metadata": {
        "id": "3Z4O3Hvypi3D"
      }
    },
    {
      "cell_type": "code",
      "execution_count": null,
      "metadata": {
        "id": "3cxyqjD2pfob"
      },
      "outputs": [],
      "source": [
        "# Program imports the math module and uses its functions\n",
        "\n",
        "import math\n",
        "\n",
        "def main():\n",
        "  #Prompt user for 2 numbers\n",
        "  num1 = float(input(\"Enter first number: \"))\n",
        "  num2 = float(input(\"Enter second number: \"))\n",
        "  math_functions(num1, num2)\n",
        "\n",
        "\n",
        "def math_functions(num1, num2):\n",
        "  #Return the ceiling and floor of the first number, num1\n",
        "  print(f\"Ceiling of {num1} is {math.ceil(num1)} and floor is {math.floor(num1)}\")\n",
        "\n",
        "  #Return the absolute value of the second number, num2\n",
        "  print(f\"Absolute value of {num2} is {math.fabs(num2)}\")\n",
        "\n",
        "  #Return the greatest common divisor of num1 and num2\n",
        "  print(f\"Greatest common divisor of {num1} and {num2} is {math.gcd(int(num1), int(num2))}\")\n",
        "\n",
        "  #Return the least common multiple of num1 and num2\n",
        "  print(f\"Least common multiple of {num1} and {num2} is {math.lcm(int(num1), int(num2))}\")\n",
        "\n",
        "  #Return the remainder of num1/num2\n",
        "  print(f\"The remainder of {num2/num1} is {math.fmod(num2, num1)}\")\n",
        "\n",
        "  #Return the square root of num1 and num2\n",
        "  print(f\"The square root of {num1} is {round(math.sqrt(num1),2)} and the square root of {num2} is {round(math.sqrt(num2),2)}\")\n",
        "\n",
        "\n",
        "main()"
      ]
    }
  ]
}