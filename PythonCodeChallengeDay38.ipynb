{
  "nbformat": 4,
  "nbformat_minor": 0,
  "metadata": {
    "colab": {
      "provenance": [],
      "authorship_tag": "ABX9TyOH7MlQ1gK/AiUR4+TAq2Hd",
      "include_colab_link": true
    },
    "kernelspec": {
      "name": "python3",
      "display_name": "Python 3"
    },
    "language_info": {
      "name": "python"
    }
  },
  "cells": [
    {
      "cell_type": "markdown",
      "metadata": {
        "id": "view-in-github",
        "colab_type": "text"
      },
      "source": [
        "<a href=\"https://colab.research.google.com/github/2023LeslieK/WWC2024-PythonChallenge/blob/main/PythonCodeChallengeDay38.ipynb\" target=\"_parent\"><img src=\"https://colab.research.google.com/assets/colab-badge.svg\" alt=\"Open In Colab\"/></a>"
      ]
    },
    {
      "cell_type": "markdown",
      "source": [
        "Program to flatten a nested list."
      ],
      "metadata": {
        "id": "weUL4rxw7AfJ"
      }
    },
    {
      "cell_type": "code",
      "execution_count": 8,
      "metadata": {
        "colab": {
          "base_uri": "https://localhost:8080/"
        },
        "id": "2DV0gh_b6_T6",
        "outputId": "0b87eca1-761d-4dfc-da75-ba34614f0d8f"
      },
      "outputs": [
        {
          "output_type": "stream",
          "name": "stdout",
          "text": [
            "Original nested list: [[1, 2, 3], [4, 5, 6], [7, [7.5, 8, 8.5], 9], [10, 11, 12], ['apples', 'oranges', 'plums'], 'red', 'orange', 'purple']\n",
            "Flattened list: [1, 2, 3, 4, 5, 6, 7, 7.5, 8, 8.5, 9, 10, 11, 12, 'apples', 'oranges', 'plums', 'red', 'orange', 'purple']\n"
          ]
        }
      ],
      "source": [
        "# Program to flatten a nested list\n",
        "\n",
        "def main():\n",
        "  nested_list = [[1,2,3], [4,5,6], [7,[7.5, 8, 8.5],9], [10,11,12], [\"apples\", \"oranges\", \"plums\"], \"red\", \"orange\", \"purple\"]\n",
        "  print(f\"Original nested list: {nested_list}\")\n",
        "  print(f\"Flattened list: {flatten_list(nested_list)}\")\n",
        "\n",
        "\n",
        "#Using recursion, while list exists in list, read element and write to new list\n",
        "def flatten_list(nested_list):\n",
        "  flat_list = []  # create new list to store items from nested list\n",
        "  for lst in nested_list:\n",
        "    if type(lst) == list:\n",
        "        flat_list.extend(flatten_list(lst))\n",
        "    else:\n",
        "        flat_list.append(lst)\n",
        "\n",
        "  return flat_list\n",
        "\n",
        "main()"
      ]
    }
  ]
}