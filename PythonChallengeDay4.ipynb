{
  "nbformat": 4,
  "nbformat_minor": 0,
  "metadata": {
    "colab": {
      "provenance": [],
      "authorship_tag": "ABX9TyOIl4qUGwAB8BYe5wO+lfx3",
      "include_colab_link": true
    },
    "kernelspec": {
      "name": "python3",
      "display_name": "Python 3"
    },
    "language_info": {
      "name": "python"
    }
  },
  "cells": [
    {
      "cell_type": "markdown",
      "metadata": {
        "id": "view-in-github",
        "colab_type": "text"
      },
      "source": [
        "<a href=\"https://colab.research.google.com/github/2023LeslieK/WWC2024-PythonChallenge/blob/main/PythonChallengeDay4.ipynb\" target=\"_parent\"><img src=\"https://colab.research.google.com/assets/colab-badge.svg\" alt=\"Open In Colab\"/></a>"
      ]
    },
    {
      "cell_type": "markdown",
      "source": [
        "Program to find the sum of all elements in a list"
      ],
      "metadata": {
        "id": "Mv5wooR0tuuA"
      }
    },
    {
      "cell_type": "code",
      "source": [
        "# User is prompted to enter a list of items. Numbers only.\n",
        "\n",
        "inputlist = (input(\"Enter a list of numbers separated by commas. Press enter when done: \"))\n",
        "inputlist = inputlist.replace(\" \", \"\") # remove any whitespaces\n",
        "inputlist = inputlist.split(\",\") # create list by splitting string on commas\n",
        "\n",
        "\n",
        "# Check if list only contains numbers.\n",
        "count = 0\n",
        "for x in inputlist:\n",
        "   if not x.isdigit():\n",
        "    count = count + 1\n",
        "\n",
        "# If list only contains numbers, change list items to type float and sum, otherwise display error\n",
        "if count == 0:\n",
        "  print(sum(map(float, inputlist)))\n",
        "else:\n",
        "  print(f\"Error. There are {count} non digit values in the list. Enter a new list.\")"
      ],
      "metadata": {
        "id": "C8fNxLq2QLbj"
      },
      "execution_count": null,
      "outputs": []
    },
    {
      "cell_type": "code",
      "source": [
        "# User is prompted to enter a list of items. Numbers only.\n",
        "\n",
        "inputlist = (input(\"Enter a list of numbers separated by commas. Press enter when done: \"))\n",
        "inputlist = inputlist.replace(\" \", \"\") # remove any whitespaces\n",
        "inputlist = inputlist.split(\",\") # create list by splitting string on commas\n",
        "\n",
        "\n",
        "# Check if list only contains numbers. If element is a number, change type to int and add to new list - reslist\n",
        "count = 0\n",
        "reslist = []\n",
        "for x in inputlist:\n",
        "   if not x.isdigit():\n",
        "    count = count + 1\n",
        "   else:\n",
        "    reslist.append(int(x))\n",
        "\n",
        "\n",
        "# If list only contains numbers, display sum, otherwise display error\n",
        "if count == 0:\n",
        "  print(sum(reslist))\n",
        "else:\n",
        "  print(f\"Error. There are {count} non digit values in the list. Enter a new list.\")"
      ],
      "metadata": {
        "id": "ic5o88Q5jgnz"
      },
      "execution_count": null,
      "outputs": []
    }
  ]
}