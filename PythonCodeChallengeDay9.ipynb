{
  "nbformat": 4,
  "nbformat_minor": 0,
  "metadata": {
    "colab": {
      "provenance": [],
      "authorship_tag": "ABX9TyNeYUo81fPzZT2/rJWsb3A3",
      "include_colab_link": true
    },
    "kernelspec": {
      "name": "python3",
      "display_name": "Python 3"
    },
    "language_info": {
      "name": "python"
    }
  },
  "cells": [
    {
      "cell_type": "markdown",
      "metadata": {
        "id": "view-in-github",
        "colab_type": "text"
      },
      "source": [
        "<a href=\"https://colab.research.google.com/github/2023LeslieK/WWC2024-PythonChallenge/blob/main/PythonCodeChallengeDay9.ipynb\" target=\"_parent\"><img src=\"https://colab.research.google.com/assets/colab-badge.svg\" alt=\"Open In Colab\"/></a>"
      ]
    },
    {
      "cell_type": "markdown",
      "source": [
        "Program to check if a number is even or odd"
      ],
      "metadata": {
        "id": "xhWuOIJkMSQJ"
      }
    },
    {
      "cell_type": "code",
      "source": [
        "# Main function - Get number from user and check if even or odd\n",
        "def main():\n",
        "     number = get_number(\"Enter a number and press Enter: \")\n",
        "     check_even_odd(number)\n",
        "\n",
        "# Function to prompt user for number. Display error and prompt until valid number is entered\n",
        "def get_number(num_prompt):\n",
        "    while True:\n",
        "      try:\n",
        "        return int(input(num_prompt))\n",
        "      except ValueError:\n",
        "        print(\"Oops!  That was not a valid number.  Try again...\")\n",
        "\n",
        "# Function to check if number is even or odd.\n",
        "# Number is even if there is no remainder when divided by 2. Odd otherwise.\n",
        "def check_even_odd(num):\n",
        "    if (num % 2) == 0:\n",
        "      print(f\"The number {num} is even.\")\n",
        "    else:\n",
        "      print(f\"The number {num} is odd.\")\n",
        "\n",
        "\n",
        "main()\n"
      ],
      "metadata": {
        "id": "lGVQ4AT9MWFY"
      },
      "execution_count": null,
      "outputs": []
    },
    {
      "cell_type": "code",
      "source": [
        "# Main function - Get number from user and check if even or odd\n",
        "def main():\n",
        "     number = get_number(\"Enter a number and press Enter: \")\n",
        "     print (f\"The number {number} is {check_even_odd(number)}.\")\n",
        "\n",
        "# Function to prompt user for number. Display error and prompt until valid number is entered\n",
        "def get_number(num_prompt):\n",
        "    while True:\n",
        "      try:\n",
        "        return int(input(num_prompt))\n",
        "      except ValueError:\n",
        "        print(\"Oops!  That was not a valid number.  Try again...\")\n",
        "\n",
        "# Function to check if number is even or odd.\n",
        "# Return even if there is no remainder when divided by 2. Odd otherwise.\n",
        "def check_even_odd(num):\n",
        "    if (num % 2) == 0:\n",
        "      return \"even\"\n",
        "    else:\n",
        "      return \"odd\"\n",
        "\n",
        "\n",
        "main()"
      ],
      "metadata": {
        "id": "170r6BiUQYgh"
      },
      "execution_count": null,
      "outputs": []
    }
  ]
}