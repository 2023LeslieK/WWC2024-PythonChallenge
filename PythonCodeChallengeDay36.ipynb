{
  "nbformat": 4,
  "nbformat_minor": 0,
  "metadata": {
    "colab": {
      "provenance": [],
      "authorship_tag": "ABX9TyOvf8+/vCoBWHVq+hHn0CK8",
      "include_colab_link": true
    },
    "kernelspec": {
      "name": "python3",
      "display_name": "Python 3"
    },
    "language_info": {
      "name": "python"
    }
  },
  "cells": [
    {
      "cell_type": "markdown",
      "metadata": {
        "id": "view-in-github",
        "colab_type": "text"
      },
      "source": [
        "<a href=\"https://colab.research.google.com/github/2023LeslieK/WWC2024-PythonChallenge/blob/main/PythonCodeChallengeDay36.ipynb\" target=\"_parent\"><img src=\"https://colab.research.google.com/assets/colab-badge.svg\" alt=\"Open In Colab\"/></a>"
      ]
    },
    {
      "cell_type": "markdown",
      "source": [
        "Python program to check if two strings are anagrams"
      ],
      "metadata": {
        "id": "q6dS2jgEc7SU"
      }
    },
    {
      "cell_type": "code",
      "source": [
        "# Program to check if two strings are anagrams\n",
        "\n",
        "def main():\n",
        "   string1, string2 = get_strings()\n",
        "   is_anagram(string1, string2)\n",
        "\n",
        "\n",
        "def get_strings():\n",
        "  string1 = str(input(\"Enter first string: \"))\n",
        "  string2 = str(input(\"Enter first string: \"))\n",
        "  return string1, string2\n",
        "\n",
        "\"\"\"\n",
        "Convert both strings to lower case and sort them. Compare both formatted strings\n",
        "If they are the same, they are anagrams.\n",
        "\"\"\"\n",
        "def is_anagram(string1, string2):\n",
        "  string1_formatted = sorted(string1.lower())\n",
        "  string2_formatted = sorted(string2.lower())\n",
        "\n",
        "  if string1_formatted == string2_formatted:\n",
        "    print(\"Strings are anagrams.\")\n",
        "  else:\n",
        "    print(\"Strings are not anagrams\")\n",
        "\n",
        "\n",
        "main()"
      ],
      "metadata": {
        "id": "ceg_ardvi8Qh"
      },
      "execution_count": null,
      "outputs": []
    },
    {
      "cell_type": "code",
      "source": [
        "# Program to check if two strings are anagrams using counter() method\n",
        "\n",
        "from collections import Counter\n",
        "\n",
        "def main():\n",
        "   string1, string2 = get_strings()\n",
        "   is_anagram(string1, string2)\n",
        "\n",
        "\n",
        "def get_strings():\n",
        "  string1 = list(input(\"Enter first string: \").lower())\n",
        "  string2 = list(input(\"Enter first string: \").lower())\n",
        "  return string1, string2\n",
        "\n",
        "\"\"\"\n",
        "Compare both formatted strings\n",
        "If they are the same, they are anagrams.\n",
        "\"\"\"\n",
        "def is_anagram(string1, string2):\n",
        "  if Counter(string1) == Counter(string2):\n",
        "    print(\"Strings are anagrams.\")\n",
        "  else:\n",
        "    print(\"Strings are not anagrams\")\n",
        "\n",
        "\n",
        "main()"
      ],
      "metadata": {
        "id": "u3VuhBblj5tU"
      },
      "execution_count": null,
      "outputs": []
    }
  ]
}