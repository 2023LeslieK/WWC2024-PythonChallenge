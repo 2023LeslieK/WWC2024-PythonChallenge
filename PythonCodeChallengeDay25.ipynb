{
  "nbformat": 4,
  "nbformat_minor": 0,
  "metadata": {
    "colab": {
      "provenance": [],
      "authorship_tag": "ABX9TyMBNQjZjZ+WIczb7Xjgukuj",
      "include_colab_link": true
    },
    "kernelspec": {
      "name": "python3",
      "display_name": "Python 3"
    },
    "language_info": {
      "name": "python"
    }
  },
  "cells": [
    {
      "cell_type": "markdown",
      "metadata": {
        "id": "view-in-github",
        "colab_type": "text"
      },
      "source": [
        "<a href=\"https://colab.research.google.com/github/2023LeslieK/WWC2024-PythonChallenge/blob/main/PythonCodeChallengeDay25.ipynb\" target=\"_parent\"><img src=\"https://colab.research.google.com/assets/colab-badge.svg\" alt=\"Open In Colab\"/></a>"
      ]
    },
    {
      "cell_type": "markdown",
      "source": [
        "Program to concatenate two lists"
      ],
      "metadata": {
        "id": "RhZlC46bJ22Y"
      }
    },
    {
      "cell_type": "code",
      "execution_count": null,
      "metadata": {
        "id": "Bz1HDOjrJ2Go"
      },
      "outputs": [],
      "source": [
        "# Program to concatenate two lists\n",
        "\n",
        "def main():\n",
        "  list1, list2 = get_lists()\n",
        "  print(f\"New list is {join_lists(list1, list2)}\") # Print final/joined list\n",
        "\n",
        "# Function that prompts user for lists\n",
        "def get_lists():\n",
        "    first_list = input(\"Enter first list of items separated by commas: \").strip().split(\",\") # Get first list of items\n",
        "    second_list = input(\"Enter second list of items separated by commas: \").strip().split(\",\") # Get second list of items\n",
        "    return first_list, second_list\n",
        "\n",
        "# Function that joins both lists\n",
        "def join_lists(list1, list2):\n",
        "  return list1 + list2 # Concatenate both lists\n",
        "\n",
        "main()"
      ]
    }
  ]
}