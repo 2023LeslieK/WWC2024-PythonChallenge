{
  "nbformat": 4,
  "nbformat_minor": 0,
  "metadata": {
    "colab": {
      "provenance": [],
      "authorship_tag": "ABX9TyNOrTW5d7XrXv1cDSpY7ZXS",
      "include_colab_link": true
    },
    "kernelspec": {
      "name": "python3",
      "display_name": "Python 3"
    },
    "language_info": {
      "name": "python"
    }
  },
  "cells": [
    {
      "cell_type": "markdown",
      "metadata": {
        "id": "view-in-github",
        "colab_type": "text"
      },
      "source": [
        "<a href=\"https://colab.research.google.com/github/2023LeslieK/WWC2024-PythonChallenge/blob/main/PythonCodeChallengeDay25.ipynb\" target=\"_parent\"><img src=\"https://colab.research.google.com/assets/colab-badge.svg\" alt=\"Open In Colab\"/></a>"
      ]
    },
    {
      "cell_type": "markdown",
      "source": [
        "Program to concatenate two lists"
      ],
      "metadata": {
        "id": "RhZlC46bJ22Y"
      }
    },
    {
      "cell_type": "code",
      "execution_count": null,
      "metadata": {
        "id": "Bz1HDOjrJ2Go"
      },
      "outputs": [],
      "source": [
        "# Program to concatenate two lists\n",
        "\n",
        "def main():\n",
        "  list1, list2 = get_lists()\n",
        "  print(f\"New list is {join_lists(list1, list2)}\") # Print final/joined list\n",
        "\n",
        "# Function that prompts user for lists\n",
        "def get_lists():\n",
        "    first_list = input(\"Enter first list of items separated by commas: \").strip().split(\",\") # Get first list of items\n",
        "    second_list = input(\"Enter second list of items separated by commas: \").strip().split(\",\") # Get second list of items\n",
        "    return first_list, second_list\n",
        "\n",
        "# Function that joins both lists\n",
        "def join_lists(list1, list2):\n",
        "  return list1 + list2 # Concatenate both lists using join operator\n",
        "\n",
        "main()"
      ]
    },
    {
      "cell_type": "code",
      "source": [
        "# Program to concatenate two lists\n",
        "\n",
        "def main():\n",
        "  list1, list2 = get_lists()\n",
        "  print(f\"New list is {join_lists(list1, list2)}\") # Print final/joined list\n",
        "\n",
        "# Function that prompts user for lists\n",
        "def get_lists():\n",
        "    first_list = input(\"Enter first list of items separated by commas: \").strip().split(\",\") # Get first list of items\n",
        "    second_list = input(\"Enter second list of items separated by commas: \").strip().split(\",\") # Get second list of items\n",
        "    return first_list, second_list\n",
        "\n",
        "# Function that joins both lists\n",
        "def join_lists(list1, list2):\n",
        "  # Add each element in the second list to the first list\n",
        "  for elem in list2:\n",
        "    list1.append(elem) # Concatenate both lists using naive method\n",
        "  return list1\n",
        "\n",
        "main()"
      ],
      "metadata": {
        "id": "Js7X6vH5TZF5"
      },
      "execution_count": null,
      "outputs": []
    },
    {
      "cell_type": "code",
      "source": [
        "# Program to concatenate two lists\n",
        "\n",
        "def main():\n",
        "  list1, list2 = get_lists()\n",
        "  print(f\"New list is {join_lists(list1, list2)}\") # Print final/joined list\n",
        "\n",
        "# Function that prompts user for lists\n",
        "def get_lists():\n",
        "    first_list = input(\"Enter first list of items separated by commas: \").strip().split(\",\") # Get first list of items\n",
        "    second_list = input(\"Enter second list of items separated by commas: \").strip().split(\",\") # Get second list of items\n",
        "    return first_list, second_list\n",
        "\n",
        "# Function that joins both lists\n",
        "def join_lists(list1, list2):\n",
        "  result_list = [*list1, *list2] # Concatenate both lists using * operator (works only in Python 3.6+)\n",
        "  return result_list\n",
        "\n",
        "main()"
      ],
      "metadata": {
        "id": "XwFhe2H5VH54"
      },
      "execution_count": null,
      "outputs": []
    },
    {
      "cell_type": "code",
      "source": [
        "# Program to concatenate two lists\n",
        "\n",
        "def main():\n",
        "  list1, list2 = get_lists()\n",
        "  print(f\"New list is {join_lists(list1, list2)}\") # Print final/joined list\n",
        "\n",
        "# Function that prompts user for lists\n",
        "def get_lists():\n",
        "    first_list = input(\"Enter first list of items separated by commas: \").strip().split(\",\") # Get first list of items\n",
        "    second_list = input(\"Enter second list of items separated by commas: \").strip().split(\",\") # Get second list of items\n",
        "    return first_list, second_list\n",
        "\n",
        "# Function that joins both lists\n",
        "def join_lists(list1, list2):\n",
        "  return [y for x in [list1, list2] for y in x] # Concatenate both lists using list comprehension\n",
        "\n",
        "main()"
      ],
      "metadata": {
        "id": "K643owQrTpuK"
      },
      "execution_count": null,
      "outputs": []
    },
    {
      "cell_type": "code",
      "source": [
        "# Program to concatenate two lists\n",
        "\n",
        "def main():\n",
        "  list1, list2 = get_lists()\n",
        "  print(f\"New list is {join_lists(list1, list2)}\") # Print final/joined list\n",
        "\n",
        "# Function that prompts user for lists\n",
        "def get_lists():\n",
        "    first_list = input(\"Enter first list of items separated by commas: \").strip().split(\",\") # Get first list of items\n",
        "    second_list = input(\"Enter second list of items separated by commas: \").strip().split(\",\") # Get second list of items\n",
        "    return first_list, second_list\n",
        "\n",
        "# Function that joins both lists\n",
        "def join_lists(list1, list2):\n",
        "   list1.extend(list2) # Concatenate both lists using extend\n",
        "   return list1\n",
        "\n",
        "main()"
      ],
      "metadata": {
        "id": "CtO5v9DAWJFr"
      },
      "execution_count": null,
      "outputs": []
    }
  ]
}