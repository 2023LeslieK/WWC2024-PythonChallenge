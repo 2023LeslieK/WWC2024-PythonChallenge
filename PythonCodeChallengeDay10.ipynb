{
  "nbformat": 4,
  "nbformat_minor": 0,
  "metadata": {
    "colab": {
      "provenance": [],
      "authorship_tag": "ABX9TyOBvDgoWes85lgoTTjOpJRv",
      "include_colab_link": true
    },
    "kernelspec": {
      "name": "python3",
      "display_name": "Python 3"
    },
    "language_info": {
      "name": "python"
    }
  },
  "cells": [
    {
      "cell_type": "markdown",
      "metadata": {
        "id": "view-in-github",
        "colab_type": "text"
      },
      "source": [
        "<a href=\"https://colab.research.google.com/github/2023LeslieK/WWC2024-PythonChallenge/blob/main/PythonCodeChallengeDay10.ipynb\" target=\"_parent\"><img src=\"https://colab.research.google.com/assets/colab-badge.svg\" alt=\"Open In Colab\"/></a>"
      ]
    },
    {
      "cell_type": "markdown",
      "source": [
        "Program that removes duplicates from a list."
      ],
      "metadata": {
        "id": "3wLEI5tHCHQq"
      }
    },
    {
      "cell_type": "code",
      "source": [
        "# Using count()\n",
        "\n",
        "# Prompt user to enter a list of values, separated by commas.\n",
        "def main():\n",
        "  userinput = (input(\"Enter a list of values separated by commas. Press enter when done: \")).replace(\" \", \"\").split(\",\")\n",
        "  print(f\"You entered: {userinput}\")\n",
        "  find_duplicates(userinput)\n",
        "\n",
        "def find_duplicates(input_list):\n",
        "\n",
        "  # Using for loop, get first element in list and compare this with all other elements in list\n",
        "  # if there is a duplicate, remove from list\n",
        "\n",
        "  new_list = []\n",
        "\n",
        "  for x in input_list:\n",
        "      n = input_list.count(x)\n",
        "      if n > 1:\n",
        "        if new_list.count(x) == 0:\n",
        "          new_list.append(x)\n",
        "          input_list.remove(x)\n",
        "\n",
        "  print(f\"Duplicate elements: {new_list} and List without duplicates {input_list}\")\n",
        "\n",
        "\n",
        "main()"
      ],
      "metadata": {
        "id": "75LxCcbLYurP"
      },
      "execution_count": null,
      "outputs": []
    },
    {
      "cell_type": "code",
      "source": [
        "# Using 2 new lists\n",
        "\n",
        "# Prompt user to enter a list of values, separated by commas.\n",
        "def main():\n",
        "  userinput = (input(\"Enter a list of values separated by commas. Press enter when done: \")).replace(\" \", \"\").split(\",\")\n",
        "  print(f\"You entered: {userinput}\")\n",
        "  find_duplicates(userinput)\n",
        "\n",
        "def find_duplicates(input_list):\n",
        "\n",
        "  # Create 2 new lists. For each element in original list, if element not in uniqueList, add to this list, otherwise add to duplicateList.\n",
        "\n",
        "  uniqueList = []\n",
        "  duplicateList = []\n",
        "\n",
        "  for x in input_list:\n",
        "    if x not in uniqueList:\n",
        "      uniqueList.append(x)\n",
        "    elif x not in duplicateList:\n",
        "      duplicateList.append(x)\n",
        "\n",
        "  print(f\"List of duplicate elements: {duplicateList}\")\n",
        "  print(f\"List with duplicate elements removed: {uniqueList}\")\n",
        "\n",
        "main()"
      ],
      "metadata": {
        "id": "-G5XwdtRike_"
      },
      "execution_count": null,
      "outputs": []
    },
    {
      "cell_type": "code",
      "source": [
        "# Using set()\n",
        "\n",
        "# Prompt user to enter a list of values, separated by commas.\n",
        "def main():\n",
        "  userinput = (input(\"Enter a list of values separated by commas. Press enter when done: \")).replace(\" \", \"\").split(\",\")\n",
        "  print(f\"You entered: {userinput}\")\n",
        "  print(f\"List with duplicates removed: {find_duplicates(userinput)}\")\n",
        "\n",
        "\n",
        "def find_duplicates(input_list):\n",
        "   return set(input_list)\n",
        "\n",
        "main()"
      ],
      "metadata": {
        "id": "G0w938c3sv2s"
      },
      "execution_count": null,
      "outputs": []
    }
  ]
}