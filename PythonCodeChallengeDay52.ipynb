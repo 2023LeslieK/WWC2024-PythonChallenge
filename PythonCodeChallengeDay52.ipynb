{
  "nbformat": 4,
  "nbformat_minor": 0,
  "metadata": {
    "colab": {
      "provenance": [],
      "authorship_tag": "ABX9TyN8cr5X0bHGsjudLaNwIQVN",
      "include_colab_link": true
    },
    "kernelspec": {
      "name": "python3",
      "display_name": "Python 3"
    },
    "language_info": {
      "name": "python"
    }
  },
  "cells": [
    {
      "cell_type": "markdown",
      "metadata": {
        "id": "view-in-github",
        "colab_type": "text"
      },
      "source": [
        "<a href=\"https://colab.research.google.com/github/2023LeslieK/WWC2024-PythonChallenge/blob/main/PythonCodeChallengeDay52.ipynb\" target=\"_parent\"><img src=\"https://colab.research.google.com/assets/colab-badge.svg\" alt=\"Open In Colab\"/></a>"
      ]
    },
    {
      "cell_type": "markdown",
      "source": [
        "Program checks if a string is a palindrome"
      ],
      "metadata": {
        "id": "HlDsmBNAF5wj"
      }
    },
    {
      "cell_type": "code",
      "execution_count": null,
      "metadata": {
        "id": "RnIf6ZZuF2qQ"
      },
      "outputs": [],
      "source": [
        "# Program checks if a string is a palindrome.\n",
        "\n",
        "\n",
        "# Main function\n",
        "def main():\n",
        "   input_string = get_string()\n",
        "   check_string(input_string)\n",
        "\n",
        "# Function to prompt user for sentence\n",
        "def get_string():\n",
        "    return input(\"Enter string you wish to check: \")\n",
        "\n",
        "\n",
        "# Function checks if string is a palindrome.\n",
        "def check_string(input_string):\n",
        "\n",
        "    # Create a new string from original string by removing all non-letter characters including spaces.\n",
        "    # Also convert all uppercase letters to lowercase.\n",
        "    string_formatted = ''.join(i.lower() for i in input_string if i.isalpha())\n",
        "\n",
        "    # Using slicing method reverse the formatted string\n",
        "    reversed_string = string_formatted[::-1]\n",
        "\n",
        "    # If the reverse of the formatted string is the same as the formatted string,\n",
        "    # string is a palindrome, otherwise it is not.\n",
        "    if string_formatted == reversed_string:\n",
        "       print(f\"\\\"{input_string}\\\" is a palindrome.\")\n",
        "    else:\n",
        "       print(f\"{input_string} is not a palindrome.\")\n",
        "\n",
        "\n",
        "main()"
      ]
    }
  ]
}